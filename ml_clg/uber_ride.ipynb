{
 "cells": [
  {
   "cell_type": "code",
   "execution_count": 26,
   "metadata": {
    "collapsed": true,
    "pycharm": {
     "name": "#%%\n"
    }
   },
   "outputs": [],
   "source": [
    "import matplotlib\n",
    "import numpy as np\n",
    "import pandas as pd\n",
    "import matplotlib.pyplot as plt"
   ]
  },
  {
   "cell_type": "code",
   "execution_count": 27,
   "outputs": [
    {
     "data": {
      "text/plain": "   Unnamed: 0                            key  fare_amount  \\\n0    24238194    2015-05-07 19:52:06.0000003          7.5   \n1    27835199    2009-07-17 20:04:56.0000002          7.7   \n2    44984355   2009-08-24 21:45:00.00000061         12.9   \n3    25894730    2009-06-26 08:22:21.0000001          5.3   \n4    17610152  2014-08-28 17:47:00.000000188         16.0   \n\n           pickup_datetime  pickup_longitude  pickup_latitude  \\\n0  2015-05-07 19:52:06 UTC        -73.999817        40.738354   \n1  2009-07-17 20:04:56 UTC        -73.994355        40.728225   \n2  2009-08-24 21:45:00 UTC        -74.005043        40.740770   \n3  2009-06-26 08:22:21 UTC        -73.976124        40.790844   \n4  2014-08-28 17:47:00 UTC        -73.925023        40.744085   \n\n   dropoff_longitude  dropoff_latitude  passenger_count  \n0         -73.999512         40.723217                1  \n1         -73.994710         40.750325                1  \n2         -73.962565         40.772647                1  \n3         -73.965316         40.803349                3  \n4         -73.973082         40.761247                5  ",
      "text/html": "<div>\n<style scoped>\n    .dataframe tbody tr th:only-of-type {\n        vertical-align: middle;\n    }\n\n    .dataframe tbody tr th {\n        vertical-align: top;\n    }\n\n    .dataframe thead th {\n        text-align: right;\n    }\n</style>\n<table border=\"1\" class=\"dataframe\">\n  <thead>\n    <tr style=\"text-align: right;\">\n      <th></th>\n      <th>Unnamed: 0</th>\n      <th>key</th>\n      <th>fare_amount</th>\n      <th>pickup_datetime</th>\n      <th>pickup_longitude</th>\n      <th>pickup_latitude</th>\n      <th>dropoff_longitude</th>\n      <th>dropoff_latitude</th>\n      <th>passenger_count</th>\n    </tr>\n  </thead>\n  <tbody>\n    <tr>\n      <th>0</th>\n      <td>24238194</td>\n      <td>2015-05-07 19:52:06.0000003</td>\n      <td>7.5</td>\n      <td>2015-05-07 19:52:06 UTC</td>\n      <td>-73.999817</td>\n      <td>40.738354</td>\n      <td>-73.999512</td>\n      <td>40.723217</td>\n      <td>1</td>\n    </tr>\n    <tr>\n      <th>1</th>\n      <td>27835199</td>\n      <td>2009-07-17 20:04:56.0000002</td>\n      <td>7.7</td>\n      <td>2009-07-17 20:04:56 UTC</td>\n      <td>-73.994355</td>\n      <td>40.728225</td>\n      <td>-73.994710</td>\n      <td>40.750325</td>\n      <td>1</td>\n    </tr>\n    <tr>\n      <th>2</th>\n      <td>44984355</td>\n      <td>2009-08-24 21:45:00.00000061</td>\n      <td>12.9</td>\n      <td>2009-08-24 21:45:00 UTC</td>\n      <td>-74.005043</td>\n      <td>40.740770</td>\n      <td>-73.962565</td>\n      <td>40.772647</td>\n      <td>1</td>\n    </tr>\n    <tr>\n      <th>3</th>\n      <td>25894730</td>\n      <td>2009-06-26 08:22:21.0000001</td>\n      <td>5.3</td>\n      <td>2009-06-26 08:22:21 UTC</td>\n      <td>-73.976124</td>\n      <td>40.790844</td>\n      <td>-73.965316</td>\n      <td>40.803349</td>\n      <td>3</td>\n    </tr>\n    <tr>\n      <th>4</th>\n      <td>17610152</td>\n      <td>2014-08-28 17:47:00.000000188</td>\n      <td>16.0</td>\n      <td>2014-08-28 17:47:00 UTC</td>\n      <td>-73.925023</td>\n      <td>40.744085</td>\n      <td>-73.973082</td>\n      <td>40.761247</td>\n      <td>5</td>\n    </tr>\n  </tbody>\n</table>\n</div>"
     },
     "execution_count": 27,
     "metadata": {},
     "output_type": "execute_result"
    }
   ],
   "source": [
    "uber_ride = pd.read_csv(\"uber.csv\")\n",
    "uber_ride.head()"
   ],
   "metadata": {
    "collapsed": false,
    "pycharm": {
     "name": "#%%\n"
    }
   }
  },
  {
   "cell_type": "code",
   "execution_count": 28,
   "outputs": [],
   "source": [
    "uber_ride = uber_ride.drop(['Unnamed: 0', 'key'], axis= 1)"
   ],
   "metadata": {
    "collapsed": false,
    "pycharm": {
     "name": "#%%\n"
    }
   }
  },
  {
   "cell_type": "code",
   "execution_count": 29,
   "outputs": [
    {
     "data": {
      "text/plain": "        fare_amount          pickup_datetime  pickup_longitude  \\\n0               7.5  2015-05-07 19:52:06 UTC        -73.999817   \n1               7.7  2009-07-17 20:04:56 UTC        -73.994355   \n2              12.9  2009-08-24 21:45:00 UTC        -74.005043   \n3               5.3  2009-06-26 08:22:21 UTC        -73.976124   \n4              16.0  2014-08-28 17:47:00 UTC        -73.925023   \n...             ...                      ...               ...   \n199995          3.0  2012-10-28 10:49:00 UTC        -73.987042   \n199996          7.5  2014-03-14 01:09:00 UTC        -73.984722   \n199997         30.9  2009-06-29 00:42:00 UTC        -73.986017   \n199998         14.5  2015-05-20 14:56:25 UTC        -73.997124   \n199999         14.1  2010-05-15 04:08:00 UTC        -73.984395   \n\n        pickup_latitude  dropoff_longitude  dropoff_latitude  passenger_count  \n0             40.738354         -73.999512         40.723217                1  \n1             40.728225         -73.994710         40.750325                1  \n2             40.740770         -73.962565         40.772647                1  \n3             40.790844         -73.965316         40.803349                3  \n4             40.744085         -73.973082         40.761247                5  \n...                 ...                ...               ...              ...  \n199995        40.739367         -73.986525         40.740297                1  \n199996        40.736837         -74.006672         40.739620                1  \n199997        40.756487         -73.858957         40.692588                2  \n199998        40.725452         -73.983215         40.695415                1  \n199999        40.720077         -73.985508         40.768793                1  \n\n[199999 rows x 7 columns]",
      "text/html": "<div>\n<style scoped>\n    .dataframe tbody tr th:only-of-type {\n        vertical-align: middle;\n    }\n\n    .dataframe tbody tr th {\n        vertical-align: top;\n    }\n\n    .dataframe thead th {\n        text-align: right;\n    }\n</style>\n<table border=\"1\" class=\"dataframe\">\n  <thead>\n    <tr style=\"text-align: right;\">\n      <th></th>\n      <th>fare_amount</th>\n      <th>pickup_datetime</th>\n      <th>pickup_longitude</th>\n      <th>pickup_latitude</th>\n      <th>dropoff_longitude</th>\n      <th>dropoff_latitude</th>\n      <th>passenger_count</th>\n    </tr>\n  </thead>\n  <tbody>\n    <tr>\n      <th>0</th>\n      <td>7.5</td>\n      <td>2015-05-07 19:52:06 UTC</td>\n      <td>-73.999817</td>\n      <td>40.738354</td>\n      <td>-73.999512</td>\n      <td>40.723217</td>\n      <td>1</td>\n    </tr>\n    <tr>\n      <th>1</th>\n      <td>7.7</td>\n      <td>2009-07-17 20:04:56 UTC</td>\n      <td>-73.994355</td>\n      <td>40.728225</td>\n      <td>-73.994710</td>\n      <td>40.750325</td>\n      <td>1</td>\n    </tr>\n    <tr>\n      <th>2</th>\n      <td>12.9</td>\n      <td>2009-08-24 21:45:00 UTC</td>\n      <td>-74.005043</td>\n      <td>40.740770</td>\n      <td>-73.962565</td>\n      <td>40.772647</td>\n      <td>1</td>\n    </tr>\n    <tr>\n      <th>3</th>\n      <td>5.3</td>\n      <td>2009-06-26 08:22:21 UTC</td>\n      <td>-73.976124</td>\n      <td>40.790844</td>\n      <td>-73.965316</td>\n      <td>40.803349</td>\n      <td>3</td>\n    </tr>\n    <tr>\n      <th>4</th>\n      <td>16.0</td>\n      <td>2014-08-28 17:47:00 UTC</td>\n      <td>-73.925023</td>\n      <td>40.744085</td>\n      <td>-73.973082</td>\n      <td>40.761247</td>\n      <td>5</td>\n    </tr>\n    <tr>\n      <th>...</th>\n      <td>...</td>\n      <td>...</td>\n      <td>...</td>\n      <td>...</td>\n      <td>...</td>\n      <td>...</td>\n      <td>...</td>\n    </tr>\n    <tr>\n      <th>199995</th>\n      <td>3.0</td>\n      <td>2012-10-28 10:49:00 UTC</td>\n      <td>-73.987042</td>\n      <td>40.739367</td>\n      <td>-73.986525</td>\n      <td>40.740297</td>\n      <td>1</td>\n    </tr>\n    <tr>\n      <th>199996</th>\n      <td>7.5</td>\n      <td>2014-03-14 01:09:00 UTC</td>\n      <td>-73.984722</td>\n      <td>40.736837</td>\n      <td>-74.006672</td>\n      <td>40.739620</td>\n      <td>1</td>\n    </tr>\n    <tr>\n      <th>199997</th>\n      <td>30.9</td>\n      <td>2009-06-29 00:42:00 UTC</td>\n      <td>-73.986017</td>\n      <td>40.756487</td>\n      <td>-73.858957</td>\n      <td>40.692588</td>\n      <td>2</td>\n    </tr>\n    <tr>\n      <th>199998</th>\n      <td>14.5</td>\n      <td>2015-05-20 14:56:25 UTC</td>\n      <td>-73.997124</td>\n      <td>40.725452</td>\n      <td>-73.983215</td>\n      <td>40.695415</td>\n      <td>1</td>\n    </tr>\n    <tr>\n      <th>199999</th>\n      <td>14.1</td>\n      <td>2010-05-15 04:08:00 UTC</td>\n      <td>-73.984395</td>\n      <td>40.720077</td>\n      <td>-73.985508</td>\n      <td>40.768793</td>\n      <td>1</td>\n    </tr>\n  </tbody>\n</table>\n<p>199999 rows × 7 columns</p>\n</div>"
     },
     "execution_count": 29,
     "metadata": {},
     "output_type": "execute_result"
    }
   ],
   "source": [
    "uber_ride.dropna(axis= 0)"
   ],
   "metadata": {
    "collapsed": false,
    "pycharm": {
     "name": "#%%\n"
    }
   }
  },
  {
   "cell_type": "code",
   "execution_count": 30,
   "outputs": [
    {
     "data": {
      "text/plain": "         fare_amount  pickup_longitude  pickup_latitude  dropoff_longitude  \\\ncount  200000.000000     200000.000000    200000.000000      199999.000000   \nmean       11.359955        -72.527638        39.935885         -72.525292   \nstd         9.901776         11.437787         7.720539          13.117408   \nmin       -52.000000      -1340.648410       -74.015515       -3356.666300   \n25%         6.000000        -73.992065        40.734796         -73.991407   \n50%         8.500000        -73.981823        40.752592         -73.980093   \n75%        12.500000        -73.967154        40.767158         -73.963658   \nmax       499.000000         57.418457      1644.421482        1153.572603   \n\n       dropoff_latitude  passenger_count  \ncount     199999.000000    200000.000000  \nmean          39.923890         1.684535  \nstd            6.794829         1.385997  \nmin         -881.985513         0.000000  \n25%           40.733823         1.000000  \n50%           40.753042         1.000000  \n75%           40.768001         2.000000  \nmax          872.697628       208.000000  ",
      "text/html": "<div>\n<style scoped>\n    .dataframe tbody tr th:only-of-type {\n        vertical-align: middle;\n    }\n\n    .dataframe tbody tr th {\n        vertical-align: top;\n    }\n\n    .dataframe thead th {\n        text-align: right;\n    }\n</style>\n<table border=\"1\" class=\"dataframe\">\n  <thead>\n    <tr style=\"text-align: right;\">\n      <th></th>\n      <th>fare_amount</th>\n      <th>pickup_longitude</th>\n      <th>pickup_latitude</th>\n      <th>dropoff_longitude</th>\n      <th>dropoff_latitude</th>\n      <th>passenger_count</th>\n    </tr>\n  </thead>\n  <tbody>\n    <tr>\n      <th>count</th>\n      <td>200000.000000</td>\n      <td>200000.000000</td>\n      <td>200000.000000</td>\n      <td>199999.000000</td>\n      <td>199999.000000</td>\n      <td>200000.000000</td>\n    </tr>\n    <tr>\n      <th>mean</th>\n      <td>11.359955</td>\n      <td>-72.527638</td>\n      <td>39.935885</td>\n      <td>-72.525292</td>\n      <td>39.923890</td>\n      <td>1.684535</td>\n    </tr>\n    <tr>\n      <th>std</th>\n      <td>9.901776</td>\n      <td>11.437787</td>\n      <td>7.720539</td>\n      <td>13.117408</td>\n      <td>6.794829</td>\n      <td>1.385997</td>\n    </tr>\n    <tr>\n      <th>min</th>\n      <td>-52.000000</td>\n      <td>-1340.648410</td>\n      <td>-74.015515</td>\n      <td>-3356.666300</td>\n      <td>-881.985513</td>\n      <td>0.000000</td>\n    </tr>\n    <tr>\n      <th>25%</th>\n      <td>6.000000</td>\n      <td>-73.992065</td>\n      <td>40.734796</td>\n      <td>-73.991407</td>\n      <td>40.733823</td>\n      <td>1.000000</td>\n    </tr>\n    <tr>\n      <th>50%</th>\n      <td>8.500000</td>\n      <td>-73.981823</td>\n      <td>40.752592</td>\n      <td>-73.980093</td>\n      <td>40.753042</td>\n      <td>1.000000</td>\n    </tr>\n    <tr>\n      <th>75%</th>\n      <td>12.500000</td>\n      <td>-73.967154</td>\n      <td>40.767158</td>\n      <td>-73.963658</td>\n      <td>40.768001</td>\n      <td>2.000000</td>\n    </tr>\n    <tr>\n      <th>max</th>\n      <td>499.000000</td>\n      <td>57.418457</td>\n      <td>1644.421482</td>\n      <td>1153.572603</td>\n      <td>872.697628</td>\n      <td>208.000000</td>\n    </tr>\n  </tbody>\n</table>\n</div>"
     },
     "execution_count": 30,
     "metadata": {},
     "output_type": "execute_result"
    }
   ],
   "source": [
    "uber_ride.describe()"
   ],
   "metadata": {
    "collapsed": false,
    "pycharm": {
     "name": "#%%\n"
    }
   }
  },
  {
   "cell_type": "code",
   "execution_count": 31,
   "outputs": [],
   "source": [
    "def haversine(long1, long2, lat1, lat2):\n",
    "    long1, long2, lat1, lat2 = map(np.radians, [long1, long2, lat1, lat2])\n",
    "\n",
    "    diff_long = long2 - long1\n",
    "    diff_lat = lat2 - lat1\n",
    "    km = 2 * 6371 * np.arcsin(np.sqrt(np.sin(diff_lat/2.0)**2 +\n",
    "                                      np.cos(lat1) * np.cos(lat2) * np.sin(diff_long/2.0)**2))\n",
    "\n",
    "    return km"
   ],
   "metadata": {
    "collapsed": false,
    "pycharm": {
     "name": "#%%\n"
    }
   }
  },
  {
   "cell_type": "code",
   "execution_count": 32,
   "outputs": [],
   "source": [
    "uber_pre_process = uber_ride\n",
    "uber_pre_process['Distance'] = haversine(uber_pre_process['pickup_longitude'],uber_pre_process['dropoff_longitude'],\n",
    "                             uber_pre_process['pickup_latitude'],uber_pre_process['dropoff_latitude'])\n",
    "uber_pre_process['Distance'] = uber_pre_process['Distance'].astype(float).round(2)"
   ],
   "metadata": {
    "collapsed": false,
    "pycharm": {
     "name": "#%%\n"
    }
   }
  },
  {
   "cell_type": "code",
   "execution_count": 33,
   "outputs": [
    {
     "data": {
      "text/plain": "<matplotlib.collections.PathCollection at 0x11c28c82350>"
     },
     "execution_count": 33,
     "metadata": {},
     "output_type": "execute_result"
    },
    {
     "data": {
      "text/plain": "<Figure size 432x288 with 1 Axes>",
      "image/png": "[encoded data removed]"
     },
     "metadata": {
      "needs_background": "light"
     },
     "output_type": "display_data"
    }
   ],
   "source": [
    "plt.scatter(uber_pre_process['Distance'], uber_pre_process['fare_amount'])"
   ],
   "metadata": {
    "collapsed": false,
    "pycharm": {
     "name": "#%%\n"
    }
   }
  },
  {
   "cell_type": "code",
   "execution_count": 34,
   "outputs": [],
   "source": [
    "uber_pre_process.drop(uber_pre_process[uber_pre_process['Distance'] > 75].index, inplace=True)\n",
    "uber_pre_process.drop(uber_pre_process[uber_pre_process['Distance'] == 0].index, inplace=True)\n",
    "uber_pre_process.drop(uber_pre_process[uber_pre_process['fare_amount'] == 0].index, inplace=True)\n",
    "uber_pre_process.drop(uber_pre_process[uber_pre_process['fare_amount'] < 0].index, inplace=True)"
   ],
   "metadata": {
    "collapsed": false,
    "pycharm": {
     "name": "#%%\n"
    }
   }
  },
  {
   "cell_type": "code",
   "execution_count": 35,
   "outputs": [],
   "source": [
    "uber_2 = uber_pre_process"
   ],
   "metadata": {
    "collapsed": false,
    "pycharm": {
     "name": "#%%\n"
    }
   }
  },
  {
   "cell_type": "code",
   "execution_count": 36,
   "outputs": [],
   "source": [
    "uber_2.drop(uber_2[(uber_2['fare_amount']>100) & (uber_2['Distance']<1)].index, inplace = True )\n",
    "uber_2.drop(uber_2[(uber_2['fare_amount']<100) & (uber_2['Distance']>100)].index, inplace = True )"
   ],
   "metadata": {
    "collapsed": false,
    "pycharm": {
     "name": "#%%\n"
    }
   }
  },
  {
   "cell_type": "code",
   "execution_count": 37,
   "outputs": [
    {
     "name": "stdout",
     "output_type": "stream",
     "text": [
      "<class 'pandas.core.frame.DataFrame'>\n",
      "Int64Index: 193486 entries, 0 to 199999\n",
      "Data columns (total 8 columns):\n",
      " #   Column             Non-Null Count   Dtype  \n",
      "---  ------             --------------   -----  \n",
      " 0   fare_amount        193486 non-null  float64\n",
      " 1   pickup_datetime    193486 non-null  object \n",
      " 2   pickup_longitude   193486 non-null  float64\n",
      " 3   pickup_latitude    193486 non-null  float64\n",
      " 4   dropoff_longitude  193485 non-null  float64\n",
      " 5   dropoff_latitude   193485 non-null  float64\n",
      " 6   passenger_count    193486 non-null  int64  \n",
      " 7   Distance           193485 non-null  float64\n",
      "dtypes: float64(6), int64(1), object(1)\n",
      "memory usage: 13.3+ MB\n"
     ]
    }
   ],
   "source": [
    "uber_2.info()"
   ],
   "metadata": {
    "collapsed": false,
    "pycharm": {
     "name": "#%%\n"
    }
   }
  },
  {
   "cell_type": "code",
   "execution_count": 38,
   "outputs": [
    {
     "data": {
      "text/plain": "<matplotlib.collections.PathCollection at 0x11c28c9afb0>"
     },
     "execution_count": 38,
     "metadata": {},
     "output_type": "execute_result"
    },
    {
     "data": {
      "text/plain": "<Figure size 432x288 with 1 Axes>",
      "image/png": "[encoded data removed]"
     },
     "metadata": {
      "needs_background": "light"
     },
     "output_type": "display_data"
    }
   ],
   "source": [
    "plt.scatter(uber_2['Distance'], uber_2['fare_amount'])"
   ],
   "metadata": {
    "collapsed": false,
    "pycharm": {
     "name": "#%%\n"
    }
   }
  },
  {
   "cell_type": "code",
   "execution_count": 39,
   "outputs": [],
   "source": [
    "uber_2['pickup_datetime'] = pd.to_datetime(uber_2['pickup_datetime'])\n",
    "uber_2['Year'] = uber_2['pickup_datetime'].apply(lambda time: time.year)\n",
    "uber_2['Month'] = uber_2['pickup_datetime'].apply(lambda time: time.month)\n",
    "uber_2['Day'] = uber_2['pickup_datetime'].apply(lambda time: time.day)\n",
    "uber_2['Hour'] = uber_2['pickup_datetime'].apply(lambda time: time.hour)\n",
    "uber_2['Day of Week'] = uber_2['pickup_datetime'].apply(lambda time: time.dayofweek)\n",
    "day_map = {0:'0',1:'1',2:'2',3:'3',4:'4',5:'5',6:'6'}\n",
    "uber_2['Day of Week'] = uber_2['Day of Week'].map(day_map)"
   ],
   "metadata": {
    "collapsed": false,
    "pycharm": {
     "name": "#%%\n"
    }
   }
  },
  {
   "cell_type": "code",
   "execution_count": 40,
   "outputs": [
    {
     "data": {
      "text/plain": "        fare_amount  passenger_count  Distance  Year  Month  Day  Hour  \\\n0               7.5                1      1.68  2015      5    7    19   \n1               7.7                1      2.46  2009      7   17    20   \n2              12.9                1      5.04  2009      8   24    21   \n3               5.3                3      1.66  2009      6   26     8   \n4              16.0                5      4.48  2014      8   28    17   \n...             ...              ...       ...   ...    ...  ...   ...   \n199995          3.0                1      0.11  2012     10   28    10   \n199996          7.5                1      1.88  2014      3   14     1   \n199997         30.9                2     12.85  2009      6   29     0   \n199998         14.5                1      3.54  2015      5   20    14   \n199999         14.1                1      5.42  2010      5   15     4   \n\n       Day of Week  \n0                3  \n1                4  \n2                0  \n3                4  \n4                3  \n...            ...  \n199995           6  \n199996           4  \n199997           0  \n199998           2  \n199999           5  \n\n[193486 rows x 8 columns]",
      "text/html": "<div>\n<style scoped>\n    .dataframe tbody tr th:only-of-type {\n        vertical-align: middle;\n    }\n\n    .dataframe tbody tr th {\n        vertical-align: top;\n    }\n\n    .dataframe thead th {\n        text-align: right;\n    }\n</style>\n<table border=\"1\" class=\"dataframe\">\n  <thead>\n    <tr style=\"text-align: right;\">\n      <th></th>\n      <th>fare_amount</th>\n      <th>passenger_count</th>\n      <th>Distance</th>\n      <th>Year</th>\n      <th>Month</th>\n      <th>Day</th>\n      <th>Hour</th>\n      <th>Day of Week</th>\n    </tr>\n  </thead>\n  <tbody>\n    <tr>\n      <th>0</th>\n      <td>7.5</td>\n      <td>1</td>\n      <td>1.68</td>\n      <td>2015</td>\n      <td>5</td>\n      <td>7</td>\n      <td>19</td>\n      <td>3</td>\n    </tr>\n    <tr>\n      <th>1</th>\n      <td>7.7</td>\n      <td>1</td>\n      <td>2.46</td>\n      <td>2009</td>\n      <td>7</td>\n      <td>17</td>\n      <td>20</td>\n      <td>4</td>\n    </tr>\n    <tr>\n      <th>2</th>\n      <td>12.9</td>\n      <td>1</td>\n      <td>5.04</td>\n      <td>2009</td>\n      <td>8</td>\n      <td>24</td>\n      <td>21</td>\n      <td>0</td>\n    </tr>\n    <tr>\n      <th>3</th>\n      <td>5.3</td>\n      <td>3</td>\n      <td>1.66</td>\n      <td>2009</td>\n      <td>6</td>\n      <td>26</td>\n      <td>8</td>\n      <td>4</td>\n    </tr>\n    <tr>\n      <th>4</th>\n      <td>16.0</td>\n      <td>5</td>\n      <td>4.48</td>\n      <td>2014</td>\n      <td>8</td>\n      <td>28</td>\n      <td>17</td>\n      <td>3</td>\n    </tr>\n    <tr>\n      <th>...</th>\n      <td>...</td>\n      <td>...</td>\n      <td>...</td>\n      <td>...</td>\n      <td>...</td>\n      <td>...</td>\n      <td>...</td>\n      <td>...</td>\n    </tr>\n    <tr>\n      <th>199995</th>\n      <td>3.0</td>\n      <td>1</td>\n      <td>0.11</td>\n      <td>2012</td>\n      <td>10</td>\n      <td>28</td>\n      <td>10</td>\n      <td>6</td>\n    </tr>\n    <tr>\n      <th>199996</th>\n      <td>7.5</td>\n      <td>1</td>\n      <td>1.88</td>\n      <td>2014</td>\n      <td>3</td>\n      <td>14</td>\n      <td>1</td>\n      <td>4</td>\n    </tr>\n    <tr>\n      <th>199997</th>\n      <td>30.9</td>\n      <td>2</td>\n      <td>12.85</td>\n      <td>2009</td>\n      <td>6</td>\n      <td>29</td>\n      <td>0</td>\n      <td>0</td>\n    </tr>\n    <tr>\n      <th>199998</th>\n      <td>14.5</td>\n      <td>1</td>\n      <td>3.54</td>\n      <td>2015</td>\n      <td>5</td>\n      <td>20</td>\n      <td>14</td>\n      <td>2</td>\n    </tr>\n    <tr>\n      <th>199999</th>\n      <td>14.1</td>\n      <td>1</td>\n      <td>5.42</td>\n      <td>2010</td>\n      <td>5</td>\n      <td>15</td>\n      <td>4</td>\n      <td>5</td>\n    </tr>\n  </tbody>\n</table>\n<p>193486 rows × 8 columns</p>\n</div>"
     },
     "execution_count": 40,
     "metadata": {},
     "output_type": "execute_result"
    }
   ],
   "source": [
    "uber_2 = uber_2.drop(['pickup_datetime', 'pickup_longitude', 'pickup_latitude', 'dropoff_latitude', 'dropoff_longitude'], axis = 1)\n",
    "uber_2"
   ],
   "metadata": {
    "collapsed": false,
    "pycharm": {
     "name": "#%%\n"
    }
   }
  },
  {
   "cell_type": "code",
   "execution_count": 41,
   "outputs": [
    {
     "data": {
      "text/plain": "                 fare_amount  passenger_count  Distance      Year     Month  \\\nfare_amount         1.000000         0.013364  0.892294  0.123439  0.024488   \npassenger_count     0.013364         1.000000  0.007256  0.005372  0.009993   \nDistance            0.892294         0.007256  1.000000  0.026531  0.012428   \nYear                0.123439         0.005372  0.026531  1.000000 -0.115477   \nMonth               0.024488         0.009993  0.012428 -0.115477  1.000000   \nDay                -0.000310         0.003708  0.000246 -0.012311 -0.017110   \nHour               -0.019690         0.013397 -0.032243  0.001863 -0.004256   \n\n                      Day      Hour  \nfare_amount     -0.000310 -0.019690  \npassenger_count  0.003708  0.013397  \nDistance         0.000246 -0.032243  \nYear            -0.012311  0.001863  \nMonth           -0.017110 -0.004256  \nDay              1.000000  0.005331  \nHour             0.005331  1.000000  ",
      "text/html": "<div>\n<style scoped>\n    .dataframe tbody tr th:only-of-type {\n        vertical-align: middle;\n    }\n\n    .dataframe tbody tr th {\n        vertical-align: top;\n    }\n\n    .dataframe thead th {\n        text-align: right;\n    }\n</style>\n<table border=\"1\" class=\"dataframe\">\n  <thead>\n    <tr style=\"text-align: right;\">\n      <th></th>\n      <th>fare_amount</th>\n      <th>passenger_count</th>\n      <th>Distance</th>\n      <th>Year</th>\n      <th>Month</th>\n      <th>Day</th>\n      <th>Hour</th>\n    </tr>\n  </thead>\n  <tbody>\n    <tr>\n      <th>fare_amount</th>\n      <td>1.000000</td>\n      <td>0.013364</td>\n      <td>0.892294</td>\n      <td>0.123439</td>\n      <td>0.024488</td>\n      <td>-0.000310</td>\n      <td>-0.019690</td>\n    </tr>\n    <tr>\n      <th>passenger_count</th>\n      <td>0.013364</td>\n      <td>1.000000</td>\n      <td>0.007256</td>\n      <td>0.005372</td>\n      <td>0.009993</td>\n      <td>0.003708</td>\n      <td>0.013397</td>\n    </tr>\n    <tr>\n      <th>Distance</th>\n      <td>0.892294</td>\n      <td>0.007256</td>\n      <td>1.000000</td>\n      <td>0.026531</td>\n      <td>0.012428</td>\n      <td>0.000246</td>\n      <td>-0.032243</td>\n    </tr>\n    <tr>\n      <th>Year</th>\n      <td>0.123439</td>\n      <td>0.005372</td>\n      <td>0.026531</td>\n      <td>1.000000</td>\n      <td>-0.115477</td>\n      <td>-0.012311</td>\n      <td>0.001863</td>\n    </tr>\n    <tr>\n      <th>Month</th>\n      <td>0.024488</td>\n      <td>0.009993</td>\n      <td>0.012428</td>\n      <td>-0.115477</td>\n      <td>1.000000</td>\n      <td>-0.017110</td>\n      <td>-0.004256</td>\n    </tr>\n    <tr>\n      <th>Day</th>\n      <td>-0.000310</td>\n      <td>0.003708</td>\n      <td>0.000246</td>\n      <td>-0.012311</td>\n      <td>-0.017110</td>\n      <td>1.000000</td>\n      <td>0.005331</td>\n    </tr>\n    <tr>\n      <th>Hour</th>\n      <td>-0.019690</td>\n      <td>0.013397</td>\n      <td>-0.032243</td>\n      <td>0.001863</td>\n      <td>-0.004256</td>\n      <td>0.005331</td>\n      <td>1.000000</td>\n    </tr>\n  </tbody>\n</table>\n</div>"
     },
     "execution_count": 41,
     "metadata": {},
     "output_type": "execute_result"
    }
   ],
   "source": [
    "uber_2.corr()"
   ],
   "metadata": {
    "collapsed": false,
    "pycharm": {
     "name": "#%%\n"
    }
   }
  },
  {
   "cell_type": "code",
   "execution_count": null,
   "outputs": [],
   "source": [
    "from sklearn.feature_selection import f_regression\n",
    "Y = uber_2['fare_amount'].values.reshape(-1, 1)\n",
    "X = uber_2.drop(['fare_amount'], axis=1)\n",
    "f_regression(X,Y)[1].round(3)"
   ],
   "metadata": {
    "collapsed": false,
    "pycharm": {
     "name": "#%%\n"
    }
   }
  }
 ],
 "metadata": {
  "kernelspec": {
   "display_name": "Python 3",
   "language": "python",
   "name": "python3"
  },
  "language_info": {
   "codemirror_mode": {
    "name": "ipython",
    "version": 2
   },
   "file_extension": ".py",
   "mimetype": "text/x-python",
   "name": "python",
   "nbconvert_exporter": "python",
   "pygments_lexer": "ipython2",
   "version": "2.7.6"
  }
 },
 "nbformat": 4,
 "nbformat_minor": 0
}