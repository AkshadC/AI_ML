{
 "cells": [
  {
   "cell_type": "code",
   "execution_count": 16,
   "metadata": {
    "collapsed": true
   },
   "outputs": [],
   "source": [
    "import pandas as pd\n",
    "import numpy as np\n",
    "pd.set_option('display.float_format', lambda x: '%.3f' % x)"
   ]
  },
  {
   "cell_type": "code",
   "execution_count": 17,
   "outputs": [],
   "source": [
    "data = pd.read_csv(\"covid_vaccine_statewise.csv\")"
   ],
   "metadata": {
    "collapsed": false,
    "pycharm": {
     "name": "#%%\n"
    }
   }
  },
  {
   "cell_type": "code",
   "execution_count": 18,
   "outputs": [
    {
     "data": {
      "text/plain": "      Updated On        State  Total Doses Administered  \\\n0     16/01/2021        India                 48276.000   \n1     17/01/2021        India                 58604.000   \n2     18/01/2021        India                 99449.000   \n3     19/01/2021        India                195525.000   \n4     20/01/2021        India                251280.000   \n...          ...          ...                       ...   \n7840  11/08/2021  West Bengal                       NaN   \n7841  12/08/2021  West Bengal                       NaN   \n7842  13/08/2021  West Bengal                       NaN   \n7843  14/08/2021  West Bengal                       NaN   \n7844  15/08/2021  West Bengal                       NaN   \n\n      First Dose Administered  Second Dose Administered  \\\n0                   48276.000                     0.000   \n1                   58604.000                     0.000   \n2                   99449.000                     0.000   \n3                  195525.000                     0.000   \n4                  251280.000                     0.000   \n...                       ...                       ...   \n7840                      NaN                       NaN   \n7841                      NaN                       NaN   \n7842                      NaN                       NaN   \n7843                      NaN                       NaN   \n7844                      NaN                       NaN   \n\n      Male(Individuals Vaccinated)  Female(Individuals Vaccinated)  \n0                        23757.000                       24517.000  \n1                        27348.000                       31252.000  \n2                        41361.000                       58083.000  \n3                        81901.000                      113613.000  \n4                        98111.000                      153145.000  \n...                            ...                             ...  \n7840                           NaN                             NaN  \n7841                           NaN                             NaN  \n7842                           NaN                             NaN  \n7843                           NaN                             NaN  \n7844                           NaN                             NaN  \n\n[7845 rows x 7 columns]",
      "text/html": "<div>\n<style scoped>\n    .dataframe tbody tr th:only-of-type {\n        vertical-align: middle;\n    }\n\n    .dataframe tbody tr th {\n        vertical-align: top;\n    }\n\n    .dataframe thead th {\n        text-align: right;\n    }\n</style>\n<table border=\"1\" class=\"dataframe\">\n  <thead>\n    <tr style=\"text-align: right;\">\n      <th></th>\n      <th>Updated On</th>\n      <th>State</th>\n      <th>Total Doses Administered</th>\n      <th>First Dose Administered</th>\n      <th>Second Dose Administered</th>\n      <th>Male(Individuals Vaccinated)</th>\n      <th>Female(Individuals Vaccinated)</th>\n    </tr>\n  </thead>\n  <tbody>\n    <tr>\n      <th>0</th>\n      <td>16/01/2021</td>\n      <td>India</td>\n      <td>48276.000</td>\n      <td>48276.000</td>\n      <td>0.000</td>\n      <td>23757.000</td>\n      <td>24517.000</td>\n    </tr>\n    <tr>\n      <th>1</th>\n      <td>17/01/2021</td>\n      <td>India</td>\n      <td>58604.000</td>\n      <td>58604.000</td>\n      <td>0.000</td>\n      <td>27348.000</td>\n      <td>31252.000</td>\n    </tr>\n    <tr>\n      <th>2</th>\n      <td>18/01/2021</td>\n      <td>India</td>\n      <td>99449.000</td>\n      <td>99449.000</td>\n      <td>0.000</td>\n      <td>41361.000</td>\n      <td>58083.000</td>\n    </tr>\n    <tr>\n      <th>3</th>\n      <td>19/01/2021</td>\n      <td>India</td>\n      <td>195525.000</td>\n      <td>195525.000</td>\n      <td>0.000</td>\n      <td>81901.000</td>\n      <td>113613.000</td>\n    </tr>\n    <tr>\n      <th>4</th>\n      <td>20/01/2021</td>\n      <td>India</td>\n      <td>251280.000</td>\n      <td>251280.000</td>\n      <td>0.000</td>\n      <td>98111.000</td>\n      <td>153145.000</td>\n    </tr>\n    <tr>\n      <th>...</th>\n      <td>...</td>\n      <td>...</td>\n      <td>...</td>\n      <td>...</td>\n      <td>...</td>\n      <td>...</td>\n      <td>...</td>\n    </tr>\n    <tr>\n      <th>7840</th>\n      <td>11/08/2021</td>\n      <td>West Bengal</td>\n      <td>NaN</td>\n      <td>NaN</td>\n      <td>NaN</td>\n      <td>NaN</td>\n      <td>NaN</td>\n    </tr>\n    <tr>\n      <th>7841</th>\n      <td>12/08/2021</td>\n      <td>West Bengal</td>\n      <td>NaN</td>\n      <td>NaN</td>\n      <td>NaN</td>\n      <td>NaN</td>\n      <td>NaN</td>\n    </tr>\n    <tr>\n      <th>7842</th>\n      <td>13/08/2021</td>\n      <td>West Bengal</td>\n      <td>NaN</td>\n      <td>NaN</td>\n      <td>NaN</td>\n      <td>NaN</td>\n      <td>NaN</td>\n    </tr>\n    <tr>\n      <th>7843</th>\n      <td>14/08/2021</td>\n      <td>West Bengal</td>\n      <td>NaN</td>\n      <td>NaN</td>\n      <td>NaN</td>\n      <td>NaN</td>\n      <td>NaN</td>\n    </tr>\n    <tr>\n      <th>7844</th>\n      <td>15/08/2021</td>\n      <td>West Bengal</td>\n      <td>NaN</td>\n      <td>NaN</td>\n      <td>NaN</td>\n      <td>NaN</td>\n      <td>NaN</td>\n    </tr>\n  </tbody>\n</table>\n<p>7845 rows × 7 columns</p>\n</div>"
     },
     "execution_count": 18,
     "metadata": {},
     "output_type": "execute_result"
    }
   ],
   "source": [
    "data_required = data[['Updated On', 'State', 'Total Doses Administered', 'First Dose Administered', 'Second Dose Administered', 'Male(Individuals Vaccinated)', 'Female(Individuals Vaccinated)']]\n",
    "data_required"
   ],
   "metadata": {
    "collapsed": false,
    "pycharm": {
     "name": "#%%\n"
    }
   }
  },
  {
   "cell_type": "code",
   "execution_count": 19,
   "outputs": [],
   "source": [
    "data_male_female = pd.DataFrame(data_required[['Male(Individuals Vaccinated)', 'Female(Individuals Vaccinated)']])"
   ],
   "metadata": {
    "collapsed": false,
    "pycharm": {
     "name": "#%%\n"
    }
   }
  },
  {
   "cell_type": "code",
   "execution_count": 20,
   "outputs": [],
   "source": [
    "data_states = pd.DataFrame(data_required[['State', \"First Dose Administered\", 'Second Dose Administered']])"
   ],
   "metadata": {
    "collapsed": false,
    "pycharm": {
     "name": "#%%\n"
    }
   }
  },
  {
   "cell_type": "code",
   "execution_count": 21,
   "outputs": [
    {
     "data": {
      "text/plain": "     Male(Individuals Vaccinated)  Female(Individuals Vaccinated)\n0                       23757.000                       24517.000\n1                       27348.000                       31252.000\n2                       41361.000                       58083.000\n3                       81901.000                      113613.000\n4                       98111.000                      153145.000\n..                            ...                             ...\n155                 121366817.000                   103804672.000\n156                 125704054.000                   107542051.000\n157                 128567271.000                   110074369.000\n158                 131919150.000                   112980429.000\n159                 134941971.000                   115668447.000\n\n[160 rows x 2 columns]",
      "text/html": "<div>\n<style scoped>\n    .dataframe tbody tr th:only-of-type {\n        vertical-align: middle;\n    }\n\n    .dataframe tbody tr th {\n        vertical-align: top;\n    }\n\n    .dataframe thead th {\n        text-align: right;\n    }\n</style>\n<table border=\"1\" class=\"dataframe\">\n  <thead>\n    <tr style=\"text-align: right;\">\n      <th></th>\n      <th>Male(Individuals Vaccinated)</th>\n      <th>Female(Individuals Vaccinated)</th>\n    </tr>\n  </thead>\n  <tbody>\n    <tr>\n      <th>0</th>\n      <td>23757.000</td>\n      <td>24517.000</td>\n    </tr>\n    <tr>\n      <th>1</th>\n      <td>27348.000</td>\n      <td>31252.000</td>\n    </tr>\n    <tr>\n      <th>2</th>\n      <td>41361.000</td>\n      <td>58083.000</td>\n    </tr>\n    <tr>\n      <th>3</th>\n      <td>81901.000</td>\n      <td>113613.000</td>\n    </tr>\n    <tr>\n      <th>4</th>\n      <td>98111.000</td>\n      <td>153145.000</td>\n    </tr>\n    <tr>\n      <th>...</th>\n      <td>...</td>\n      <td>...</td>\n    </tr>\n    <tr>\n      <th>155</th>\n      <td>121366817.000</td>\n      <td>103804672.000</td>\n    </tr>\n    <tr>\n      <th>156</th>\n      <td>125704054.000</td>\n      <td>107542051.000</td>\n    </tr>\n    <tr>\n      <th>157</th>\n      <td>128567271.000</td>\n      <td>110074369.000</td>\n    </tr>\n    <tr>\n      <th>158</th>\n      <td>131919150.000</td>\n      <td>112980429.000</td>\n    </tr>\n    <tr>\n      <th>159</th>\n      <td>134941971.000</td>\n      <td>115668447.000</td>\n    </tr>\n  </tbody>\n</table>\n<p>160 rows × 2 columns</p>\n</div>"
     },
     "execution_count": 21,
     "metadata": {},
     "output_type": "execute_result"
    }
   ],
   "source": [
    "data_male_female = data_male_female.dropna(axis=0)\n",
    "data_male_female"
   ],
   "metadata": {
    "collapsed": false,
    "pycharm": {
     "name": "#%%\n"
    }
   }
  },
  {
   "cell_type": "code",
   "execution_count": 22,
   "outputs": [
    {
     "data": {
      "text/plain": "            State  First Dose Administered  Second Dose Administered\n0           India                48276.000                     0.000\n1           India                58604.000                     0.000\n2           India                99449.000                     0.000\n3           India               195525.000                     0.000\n4           India               251280.000                     0.000\n...           ...                      ...                       ...\n7834  West Bengal             22401043.000               8970131.000\n7835  West Bengal             22745949.000               9028137.000\n7836  West Bengal             22959053.000               9070272.000\n7837  West Bengal             23017864.000               9080904.000\n7838  West Bengal             23257417.000               9132961.000\n\n[7621 rows x 3 columns]",
      "text/html": "<div>\n<style scoped>\n    .dataframe tbody tr th:only-of-type {\n        vertical-align: middle;\n    }\n\n    .dataframe tbody tr th {\n        vertical-align: top;\n    }\n\n    .dataframe thead th {\n        text-align: right;\n    }\n</style>\n<table border=\"1\" class=\"dataframe\">\n  <thead>\n    <tr style=\"text-align: right;\">\n      <th></th>\n      <th>State</th>\n      <th>First Dose Administered</th>\n      <th>Second Dose Administered</th>\n    </tr>\n  </thead>\n  <tbody>\n    <tr>\n      <th>0</th>\n      <td>India</td>\n      <td>48276.000</td>\n      <td>0.000</td>\n    </tr>\n    <tr>\n      <th>1</th>\n      <td>India</td>\n      <td>58604.000</td>\n      <td>0.000</td>\n    </tr>\n    <tr>\n      <th>2</th>\n      <td>India</td>\n      <td>99449.000</td>\n      <td>0.000</td>\n    </tr>\n    <tr>\n      <th>3</th>\n      <td>India</td>\n      <td>195525.000</td>\n      <td>0.000</td>\n    </tr>\n    <tr>\n      <th>4</th>\n      <td>India</td>\n      <td>251280.000</td>\n      <td>0.000</td>\n    </tr>\n    <tr>\n      <th>...</th>\n      <td>...</td>\n      <td>...</td>\n      <td>...</td>\n    </tr>\n    <tr>\n      <th>7834</th>\n      <td>West Bengal</td>\n      <td>22401043.000</td>\n      <td>8970131.000</td>\n    </tr>\n    <tr>\n      <th>7835</th>\n      <td>West Bengal</td>\n      <td>22745949.000</td>\n      <td>9028137.000</td>\n    </tr>\n    <tr>\n      <th>7836</th>\n      <td>West Bengal</td>\n      <td>22959053.000</td>\n      <td>9070272.000</td>\n    </tr>\n    <tr>\n      <th>7837</th>\n      <td>West Bengal</td>\n      <td>23017864.000</td>\n      <td>9080904.000</td>\n    </tr>\n    <tr>\n      <th>7838</th>\n      <td>West Bengal</td>\n      <td>23257417.000</td>\n      <td>9132961.000</td>\n    </tr>\n  </tbody>\n</table>\n<p>7621 rows × 3 columns</p>\n</div>"
     },
     "execution_count": 22,
     "metadata": {},
     "output_type": "execute_result"
    }
   ],
   "source": [
    "data_states = data_states.dropna(axis=0)\n",
    "data_states"
   ],
   "metadata": {
    "collapsed": false,
    "pycharm": {
     "name": "#%%\n"
    }
   }
  },
  {
   "cell_type": "markdown",
   "source": [
    "### DESCRIBE THE REQUIRED DATA"
   ],
   "metadata": {
    "collapsed": false,
    "pycharm": {
     "name": "#%% md\n"
    }
   }
  },
  {
   "cell_type": "code",
   "execution_count": 23,
   "outputs": [
    {
     "data": {
      "text/plain": "       Male(Individuals Vaccinated)  Female(Individuals Vaccinated)\ncount                       160.000                         160.000\nmean                   44616867.862                    39510179.600\nstd                    39507492.966                    34176840.952\nmin                       23757.000                       24517.000\n25%                     5739350.000                     5023407.250\n50%                    37165905.000                    33654024.500\n75%                    74416634.500                    66853682.250\nmax                   134941971.000                   115668447.000",
      "text/html": "<div>\n<style scoped>\n    .dataframe tbody tr th:only-of-type {\n        vertical-align: middle;\n    }\n\n    .dataframe tbody tr th {\n        vertical-align: top;\n    }\n\n    .dataframe thead th {\n        text-align: right;\n    }\n</style>\n<table border=\"1\" class=\"dataframe\">\n  <thead>\n    <tr style=\"text-align: right;\">\n      <th></th>\n      <th>Male(Individuals Vaccinated)</th>\n      <th>Female(Individuals Vaccinated)</th>\n    </tr>\n  </thead>\n  <tbody>\n    <tr>\n      <th>count</th>\n      <td>160.000</td>\n      <td>160.000</td>\n    </tr>\n    <tr>\n      <th>mean</th>\n      <td>44616867.862</td>\n      <td>39510179.600</td>\n    </tr>\n    <tr>\n      <th>std</th>\n      <td>39507492.966</td>\n      <td>34176840.952</td>\n    </tr>\n    <tr>\n      <th>min</th>\n      <td>23757.000</td>\n      <td>24517.000</td>\n    </tr>\n    <tr>\n      <th>25%</th>\n      <td>5739350.000</td>\n      <td>5023407.250</td>\n    </tr>\n    <tr>\n      <th>50%</th>\n      <td>37165905.000</td>\n      <td>33654024.500</td>\n    </tr>\n    <tr>\n      <th>75%</th>\n      <td>74416634.500</td>\n      <td>66853682.250</td>\n    </tr>\n    <tr>\n      <th>max</th>\n      <td>134941971.000</td>\n      <td>115668447.000</td>\n    </tr>\n  </tbody>\n</table>\n</div>"
     },
     "execution_count": 23,
     "metadata": {},
     "output_type": "execute_result"
    }
   ],
   "source": [
    "data_male_female.describe()"
   ],
   "metadata": {
    "collapsed": false,
    "pycharm": {
     "name": "#%%\n"
    }
   }
  },
  {
   "cell_type": "code",
   "execution_count": 24,
   "outputs": [
    {
     "data": {
      "text/plain": "       First Dose Administered  Second Dose Administered\ncount                 7621.000                  7621.000\nmean               7414415.300               1773755.244\nstd               29952087.780               7570382.402\nmin                      7.000                     0.000\n25%                 116632.000                 12831.000\n50%                 661459.000                138818.000\n75%                5387805.000               1166434.000\nmax              400150406.000             113077994.000",
      "text/html": "<div>\n<style scoped>\n    .dataframe tbody tr th:only-of-type {\n        vertical-align: middle;\n    }\n\n    .dataframe tbody tr th {\n        vertical-align: top;\n    }\n\n    .dataframe thead th {\n        text-align: right;\n    }\n</style>\n<table border=\"1\" class=\"dataframe\">\n  <thead>\n    <tr style=\"text-align: right;\">\n      <th></th>\n      <th>First Dose Administered</th>\n      <th>Second Dose Administered</th>\n    </tr>\n  </thead>\n  <tbody>\n    <tr>\n      <th>count</th>\n      <td>7621.000</td>\n      <td>7621.000</td>\n    </tr>\n    <tr>\n      <th>mean</th>\n      <td>7414415.300</td>\n      <td>1773755.244</td>\n    </tr>\n    <tr>\n      <th>std</th>\n      <td>29952087.780</td>\n      <td>7570382.402</td>\n    </tr>\n    <tr>\n      <th>min</th>\n      <td>7.000</td>\n      <td>0.000</td>\n    </tr>\n    <tr>\n      <th>25%</th>\n      <td>116632.000</td>\n      <td>12831.000</td>\n    </tr>\n    <tr>\n      <th>50%</th>\n      <td>661459.000</td>\n      <td>138818.000</td>\n    </tr>\n    <tr>\n      <th>75%</th>\n      <td>5387805.000</td>\n      <td>1166434.000</td>\n    </tr>\n    <tr>\n      <th>max</th>\n      <td>400150406.000</td>\n      <td>113077994.000</td>\n    </tr>\n  </tbody>\n</table>\n</div>"
     },
     "execution_count": 24,
     "metadata": {},
     "output_type": "execute_result"
    }
   ],
   "source": [
    "data_states.describe()"
   ],
   "metadata": {
    "collapsed": false,
    "pycharm": {
     "name": "#%%\n"
    }
   }
  },
  {
   "cell_type": "markdown",
   "source": [
    "### Number of persons state wise vaccinated for first dose in India"
   ],
   "metadata": {
    "collapsed": false,
    "pycharm": {
     "name": "#%% md\n"
    }
   }
  },
  {
   "cell_type": "code",
   "execution_count": 25,
   "outputs": [
    {
     "name": "stdout",
     "output_type": "stream",
     "text": [
      "THE STATE WISE VACCINE DATA IS : \n",
      "                                          First Dose Administered\n",
      "State                                                            \n",
      "Andaman and Nicobar Islands                          16425854.000\n",
      "Andhra Pradesh                                     1232860845.000\n",
      "Arunachal Pradesh                                    49004980.000\n",
      "Assam                                               585600226.000\n",
      "Bihar                                              1470502878.000\n",
      "Chandigarh                                           44703105.000\n",
      "Chhattisgarh                                        796002902.000\n",
      "Dadra and Nagar Haveli and Daman and Diu             33595063.000\n",
      "Delhi                                               624339473.000\n",
      "Goa                                                  75991368.000\n",
      "Gujarat                                            2131646009.000\n",
      "Haryana                                             755798352.000\n",
      "Himachal Pradesh                                    316294004.000\n",
      "India                                             28262144791.000\n",
      "Jammu and Kashmir                                   410101777.000\n",
      "Jharkhand                                           603673726.000\n",
      "Karnataka                                          1873329968.000\n",
      "Kerala                                             1193845072.000\n",
      "Ladakh                                               17809249.000\n",
      "Lakshadweep                                           4363655.000\n",
      "Madhya Pradesh                                     1796604591.000\n",
      "Maharashtra                                        2784364331.000\n",
      "Manipur                                              67409568.000\n",
      "Meghalaya                                            62615974.000\n",
      "Mizoram                                              47873077.000\n",
      "Nagaland                                             42410766.000\n",
      "Odisha                                             1032633168.000\n",
      "Puducherry                                           41346858.000\n",
      "Punjab                                              584346582.000\n",
      "Rajasthan                                          2201044187.000\n",
      "Sikkim                                               36980929.000\n",
      "Tamil Nadu                                         1288532512.000\n",
      "Telangana                                           880320645.000\n",
      "Tripura                                             192689726.000\n",
      "Uttar Pradesh                                      2788411358.000\n",
      "Uttarakhand                                         363191446.000\n",
      "West Bengal                                        1796449989.000\n"
     ]
    }
   ],
   "source": [
    "print(\"THE STATE WISE VACCINE DATA IS : \")\n",
    "print(data_states[['State','First Dose Administered']].groupby(['State']).sum())"
   ],
   "metadata": {
    "collapsed": false,
    "pycharm": {
     "name": "#%%\n"
    }
   }
  },
  {
   "cell_type": "markdown",
   "source": [
    "### Number of persons state wise vaccinated for second dose in India"
   ],
   "metadata": {
    "collapsed": false,
    "pycharm": {
     "name": "#%% md\n"
    }
   }
  },
  {
   "cell_type": "code",
   "execution_count": 26,
   "outputs": [
    {
     "name": "stdout",
     "output_type": "stream",
     "text": [
      "THE STATE WISE VACCINE DATA IS : \n",
      "                                          Second Dose Administered\n",
      "State                                                             \n",
      "Andaman and Nicobar Islands                         -112983397.000\n",
      "Andhra Pradesh                                         6119715.000\n",
      "Arunachal Pradesh                                     -6027693.000\n",
      "Assam                                                  2021958.000\n",
      "Bihar                                                  2276191.000\n",
      "Chandigarh                                            -4261234.000\n",
      "Chhattisgarh                                           2364161.000\n",
      "Dadra and Nagar Haveli and Daman and Diu              -2506844.000\n",
      "Delhi                                                  2919685.000\n",
      "Goa                                                   -2698017.000\n",
      "Gujarat                                                8748634.000\n",
      "Haryana                                               -6127603.000\n",
      "Himachal Pradesh                                      -1540958.000\n",
      "India                                                113077994.000\n",
      "Jammu and Kashmir                                       107234.000\n",
      "Jharkhand                                               506188.000\n",
      "Karnataka                                              5436838.000\n",
      "Kerala                                                -1005868.000\n",
      "Ladakh                                                -6356647.000\n",
      "Lakshadweep                                             -53198.000\n",
      "Madhya Pradesh                                         5716501.000\n",
      "Maharashtra                                            6378914.000\n",
      "Manipur                                              -11865860.000\n",
      "Meghalaya                                               -14712.000\n",
      "Mizoram                                                 -25209.000\n",
      "Nagaland                                                -47385.000\n",
      "Odisha                                                 4040706.000\n",
      "Puducherry                                            -4048323.000\n",
      "Punjab                                                 2133858.000\n",
      "Rajasthan                                              6089427.000\n",
      "Sikkim                                                -8223518.000\n",
      "Tamil Nadu                                             4534496.000\n",
      "Telangana                                              -720410.000\n",
      "Tripura                                               -3161525.000\n",
      "Uttar Pradesh                                          7711137.000\n",
      "Uttarakhand                                           -6918664.000\n",
      "West Bengal                                            7536389.000\n"
     ]
    }
   ],
   "source": [
    "print(\"THE STATE WISE VACCINE DATA IS : \")\n",
    "print(data_states[['State','Second Dose Administered']].groupby(['State']).sum())"
   ],
   "metadata": {
    "collapsed": false,
    "pycharm": {
     "name": "#%%\n"
    }
   }
  },
  {
   "cell_type": "markdown",
   "source": [
    "### Number of Males vaccinated"
   ],
   "metadata": {
    "collapsed": false,
    "pycharm": {
     "name": "#%% md\n"
    }
   }
  },
  {
   "cell_type": "code",
   "execution_count": 28,
   "outputs": [
    {
     "name": "stdout",
     "output_type": "stream",
     "text": [
      "Number of Males vaccinated =  134941971.0\n"
     ]
    }
   ],
   "source": [
    "no_male_vaccinated = data_male_female['Male(Individuals Vaccinated)'][159]\n",
    "print(\"Number of Males vaccinated = \", no_male_vaccinated)"
   ],
   "metadata": {
    "collapsed": false,
    "pycharm": {
     "name": "#%%\n"
    }
   }
  },
  {
   "cell_type": "markdown",
   "source": [
    "### Number of females vaccinated"
   ],
   "metadata": {
    "collapsed": false,
    "pycharm": {
     "name": "#%% md\n"
    }
   }
  },
  {
   "cell_type": "code",
   "execution_count": 29,
   "outputs": [
    {
     "name": "stdout",
     "output_type": "stream",
     "text": [
      "Number of Females vaccinated =  115668447.0\n"
     ]
    }
   ],
   "source": [
    "no_female_vaccinated = data_male_female['Female(Individuals Vaccinated)'][159]\n",
    "print(\"Number of Females vaccinated = \", no_female_vaccinated)"
   ],
   "metadata": {
    "collapsed": false,
    "pycharm": {
     "name": "#%%\n"
    }
   }
  }
 ],
 "metadata": {
  "kernelspec": {
   "display_name": "Python 3",
   "language": "python",
   "name": "python3"
  },
  "language_info": {
   "codemirror_mode": {
    "name": "ipython",
    "version": 2
   },
   "file_extension": ".py",
   "mimetype": "text/x-python",
   "name": "python",
   "nbconvert_exporter": "python",
   "pygments_lexer": "ipython2",
   "version": "2.7.6"
  }
 },
 "nbformat": 4,
 "nbformat_minor": 0
}