{
 "cells": [
  {
   "cell_type": "code",
   "execution_count": 3,
   "metadata": {
    "collapsed": true
   },
   "outputs": [
    {
     "name": "stdout",
     "output_type": "stream",
     "text": [
      "✔ Download and installation successful\n",
      "You can now load the package via spacy.load('en_core_web_sm')\n"
     ]
    },
    {
     "ename": "AttributeError",
     "evalue": "module 'collections' has no attribute 'Hashable'",
     "output_type": "error",
     "traceback": [
      "\u001B[1;31m---------------------------------------------------------------------------\u001B[0m",
      "\u001B[1;31mAttributeError\u001B[0m                            Traceback (most recent call last)",
      "Input \u001B[1;32mIn [3]\u001B[0m, in \u001B[0;36m<cell line: 21>\u001B[1;34m()\u001B[0m\n\u001B[0;32m     18\u001B[0m trainer \u001B[38;5;241m=\u001B[39m ChatterBotCorpusTrainer(chatbot)\n\u001B[0;32m     20\u001B[0m \u001B[38;5;66;03m# Now let us train our bot with multiple corpus\u001B[39;00m\n\u001B[1;32m---> 21\u001B[0m \u001B[43mtrainer\u001B[49m\u001B[38;5;241;43m.\u001B[39;49m\u001B[43mtrain\u001B[49m\u001B[43m(\u001B[49m\u001B[38;5;124;43m\"\u001B[39;49m\u001B[38;5;124;43mchatterbot.corpus.english.greetings\u001B[39;49m\u001B[38;5;124;43m\"\u001B[39;49m\u001B[43m,\u001B[49m\n\u001B[0;32m     22\u001B[0m \u001B[43m\t\t\t\u001B[49m\u001B[38;5;124;43m\"\u001B[39;49m\u001B[38;5;124;43mchatterbot.corpus.english.conversations\u001B[39;49m\u001B[38;5;124;43m\"\u001B[39;49m\u001B[43m \u001B[49m\u001B[43m)\u001B[49m\n\u001B[0;32m     24\u001B[0m response \u001B[38;5;241m=\u001B[39m chatbot\u001B[38;5;241m.\u001B[39mget_response(\u001B[38;5;124m'\u001B[39m\u001B[38;5;124mWhat is your Number\u001B[39m\u001B[38;5;124m'\u001B[39m)\n\u001B[0;32m     25\u001B[0m \u001B[38;5;28mprint\u001B[39m(response)\n",
      "File \u001B[1;32m~\\PycharmProjects\\AI_ML\\venv\\lib\\site-packages\\chatterbot\\trainers.py:135\u001B[0m, in \u001B[0;36mChatterBotCorpusTrainer.train\u001B[1;34m(self, *corpus_paths)\u001B[0m\n\u001B[0;32m    132\u001B[0m \u001B[38;5;28;01mfor\u001B[39;00m corpus_path \u001B[38;5;129;01min\u001B[39;00m corpus_paths:\n\u001B[0;32m    133\u001B[0m     data_file_paths\u001B[38;5;241m.\u001B[39mextend(list_corpus_files(corpus_path))\n\u001B[1;32m--> 135\u001B[0m \u001B[38;5;28;01mfor\u001B[39;00m corpus, categories, file_path \u001B[38;5;129;01min\u001B[39;00m load_corpus(\u001B[38;5;241m*\u001B[39mdata_file_paths):\n\u001B[0;32m    137\u001B[0m     statements_to_create \u001B[38;5;241m=\u001B[39m []\n\u001B[0;32m    139\u001B[0m     \u001B[38;5;66;03m# Train the chat bot with each statement and response pair\u001B[39;00m\n",
      "File \u001B[1;32m~\\PycharmProjects\\AI_ML\\venv\\lib\\site-packages\\chatterbot\\corpus.py:84\u001B[0m, in \u001B[0;36mload_corpus\u001B[1;34m(*data_file_paths)\u001B[0m\n\u001B[0;32m     82\u001B[0m \u001B[38;5;28;01mfor\u001B[39;00m file_path \u001B[38;5;129;01min\u001B[39;00m data_file_paths:\n\u001B[0;32m     83\u001B[0m     corpus \u001B[38;5;241m=\u001B[39m []\n\u001B[1;32m---> 84\u001B[0m     corpus_data \u001B[38;5;241m=\u001B[39m \u001B[43mread_corpus\u001B[49m\u001B[43m(\u001B[49m\u001B[43mfile_path\u001B[49m\u001B[43m)\u001B[49m\n\u001B[0;32m     86\u001B[0m     conversations \u001B[38;5;241m=\u001B[39m corpus_data\u001B[38;5;241m.\u001B[39mget(\u001B[38;5;124m'\u001B[39m\u001B[38;5;124mconversations\u001B[39m\u001B[38;5;124m'\u001B[39m, [])\n\u001B[0;32m     87\u001B[0m     corpus\u001B[38;5;241m.\u001B[39mextend(conversations)\n",
      "File \u001B[1;32m~\\PycharmProjects\\AI_ML\\venv\\lib\\site-packages\\chatterbot\\corpus.py:59\u001B[0m, in \u001B[0;36mread_corpus\u001B[1;34m(file_name)\u001B[0m\n\u001B[0;32m     56\u001B[0m     \u001B[38;5;28;01mraise\u001B[39;00m OptionalDependencyImportError(message)\n\u001B[0;32m     58\u001B[0m \u001B[38;5;28;01mwith\u001B[39;00m io\u001B[38;5;241m.\u001B[39mopen(file_name, encoding\u001B[38;5;241m=\u001B[39m\u001B[38;5;124m'\u001B[39m\u001B[38;5;124mutf-8\u001B[39m\u001B[38;5;124m'\u001B[39m) \u001B[38;5;28;01mas\u001B[39;00m data_file:\n\u001B[1;32m---> 59\u001B[0m     \u001B[38;5;28;01mreturn\u001B[39;00m \u001B[43myaml\u001B[49m\u001B[38;5;241;43m.\u001B[39;49m\u001B[43msafe_load\u001B[49m\u001B[43m(\u001B[49m\u001B[43mdata_file\u001B[49m\u001B[43m)\u001B[49m\n",
      "File \u001B[1;32m~\\PycharmProjects\\AI_ML\\venv\\lib\\site-packages\\yaml\\__init__.py:94\u001B[0m, in \u001B[0;36msafe_load\u001B[1;34m(stream)\u001B[0m\n\u001B[0;32m     88\u001B[0m \u001B[38;5;28;01mdef\u001B[39;00m \u001B[38;5;21msafe_load\u001B[39m(stream):\n\u001B[0;32m     89\u001B[0m     \u001B[38;5;124;03m\"\"\"\u001B[39;00m\n\u001B[0;32m     90\u001B[0m \u001B[38;5;124;03m    Parse the first YAML document in a stream\u001B[39;00m\n\u001B[0;32m     91\u001B[0m \u001B[38;5;124;03m    and produce the corresponding Python object.\u001B[39;00m\n\u001B[0;32m     92\u001B[0m \u001B[38;5;124;03m    Resolve only basic YAML tags.\u001B[39;00m\n\u001B[0;32m     93\u001B[0m \u001B[38;5;124;03m    \"\"\"\u001B[39;00m\n\u001B[1;32m---> 94\u001B[0m     \u001B[38;5;28;01mreturn\u001B[39;00m \u001B[43mload\u001B[49m\u001B[43m(\u001B[49m\u001B[43mstream\u001B[49m\u001B[43m,\u001B[49m\u001B[43m \u001B[49m\u001B[43mSafeLoader\u001B[49m\u001B[43m)\u001B[49m\n",
      "File \u001B[1;32m~\\PycharmProjects\\AI_ML\\venv\\lib\\site-packages\\yaml\\__init__.py:72\u001B[0m, in \u001B[0;36mload\u001B[1;34m(stream, Loader)\u001B[0m\n\u001B[0;32m     70\u001B[0m loader \u001B[38;5;241m=\u001B[39m Loader(stream)\n\u001B[0;32m     71\u001B[0m \u001B[38;5;28;01mtry\u001B[39;00m:\n\u001B[1;32m---> 72\u001B[0m     \u001B[38;5;28;01mreturn\u001B[39;00m \u001B[43mloader\u001B[49m\u001B[38;5;241;43m.\u001B[39;49m\u001B[43mget_single_data\u001B[49m\u001B[43m(\u001B[49m\u001B[43m)\u001B[49m\n\u001B[0;32m     73\u001B[0m \u001B[38;5;28;01mfinally\u001B[39;00m:\n\u001B[0;32m     74\u001B[0m     loader\u001B[38;5;241m.\u001B[39mdispose()\n",
      "File \u001B[1;32m~\\PycharmProjects\\AI_ML\\venv\\lib\\site-packages\\yaml\\constructor.py:37\u001B[0m, in \u001B[0;36mBaseConstructor.get_single_data\u001B[1;34m(self)\u001B[0m\n\u001B[0;32m     35\u001B[0m node \u001B[38;5;241m=\u001B[39m \u001B[38;5;28mself\u001B[39m\u001B[38;5;241m.\u001B[39mget_single_node()\n\u001B[0;32m     36\u001B[0m \u001B[38;5;28;01mif\u001B[39;00m node \u001B[38;5;129;01mis\u001B[39;00m \u001B[38;5;129;01mnot\u001B[39;00m \u001B[38;5;28;01mNone\u001B[39;00m:\n\u001B[1;32m---> 37\u001B[0m     \u001B[38;5;28;01mreturn\u001B[39;00m \u001B[38;5;28;43mself\u001B[39;49m\u001B[38;5;241;43m.\u001B[39;49m\u001B[43mconstruct_document\u001B[49m\u001B[43m(\u001B[49m\u001B[43mnode\u001B[49m\u001B[43m)\u001B[49m\n\u001B[0;32m     38\u001B[0m \u001B[38;5;28;01mreturn\u001B[39;00m \u001B[38;5;28;01mNone\u001B[39;00m\n",
      "File \u001B[1;32m~\\PycharmProjects\\AI_ML\\venv\\lib\\site-packages\\yaml\\constructor.py:46\u001B[0m, in \u001B[0;36mBaseConstructor.construct_document\u001B[1;34m(self, node)\u001B[0m\n\u001B[0;32m     44\u001B[0m     \u001B[38;5;28mself\u001B[39m\u001B[38;5;241m.\u001B[39mstate_generators \u001B[38;5;241m=\u001B[39m []\n\u001B[0;32m     45\u001B[0m     \u001B[38;5;28;01mfor\u001B[39;00m generator \u001B[38;5;129;01min\u001B[39;00m state_generators:\n\u001B[1;32m---> 46\u001B[0m         \u001B[38;5;28;01mfor\u001B[39;00m dummy \u001B[38;5;129;01min\u001B[39;00m generator:\n\u001B[0;32m     47\u001B[0m             \u001B[38;5;28;01mpass\u001B[39;00m\n\u001B[0;32m     48\u001B[0m \u001B[38;5;28mself\u001B[39m\u001B[38;5;241m.\u001B[39mconstructed_objects \u001B[38;5;241m=\u001B[39m {}\n",
      "File \u001B[1;32m~\\PycharmProjects\\AI_ML\\venv\\lib\\site-packages\\yaml\\constructor.py:398\u001B[0m, in \u001B[0;36mSafeConstructor.construct_yaml_map\u001B[1;34m(self, node)\u001B[0m\n\u001B[0;32m    396\u001B[0m data \u001B[38;5;241m=\u001B[39m {}\n\u001B[0;32m    397\u001B[0m \u001B[38;5;28;01myield\u001B[39;00m data\n\u001B[1;32m--> 398\u001B[0m value \u001B[38;5;241m=\u001B[39m \u001B[38;5;28;43mself\u001B[39;49m\u001B[38;5;241;43m.\u001B[39;49m\u001B[43mconstruct_mapping\u001B[49m\u001B[43m(\u001B[49m\u001B[43mnode\u001B[49m\u001B[43m)\u001B[49m\n\u001B[0;32m    399\u001B[0m data\u001B[38;5;241m.\u001B[39mupdate(value)\n",
      "File \u001B[1;32m~\\PycharmProjects\\AI_ML\\venv\\lib\\site-packages\\yaml\\constructor.py:204\u001B[0m, in \u001B[0;36mSafeConstructor.construct_mapping\u001B[1;34m(self, node, deep)\u001B[0m\n\u001B[0;32m    202\u001B[0m \u001B[38;5;28;01mif\u001B[39;00m \u001B[38;5;28misinstance\u001B[39m(node, MappingNode):\n\u001B[0;32m    203\u001B[0m     \u001B[38;5;28mself\u001B[39m\u001B[38;5;241m.\u001B[39mflatten_mapping(node)\n\u001B[1;32m--> 204\u001B[0m \u001B[38;5;28;01mreturn\u001B[39;00m \u001B[38;5;28;43msuper\u001B[39;49m\u001B[43m(\u001B[49m\u001B[43m)\u001B[49m\u001B[38;5;241;43m.\u001B[39;49m\u001B[43mconstruct_mapping\u001B[49m\u001B[43m(\u001B[49m\u001B[43mnode\u001B[49m\u001B[43m,\u001B[49m\u001B[43m \u001B[49m\u001B[43mdeep\u001B[49m\u001B[38;5;241;43m=\u001B[39;49m\u001B[43mdeep\u001B[49m\u001B[43m)\u001B[49m\n",
      "File \u001B[1;32m~\\PycharmProjects\\AI_ML\\venv\\lib\\site-packages\\yaml\\constructor.py:126\u001B[0m, in \u001B[0;36mBaseConstructor.construct_mapping\u001B[1;34m(self, node, deep)\u001B[0m\n\u001B[0;32m    124\u001B[0m \u001B[38;5;28;01mfor\u001B[39;00m key_node, value_node \u001B[38;5;129;01min\u001B[39;00m node\u001B[38;5;241m.\u001B[39mvalue:\n\u001B[0;32m    125\u001B[0m     key \u001B[38;5;241m=\u001B[39m \u001B[38;5;28mself\u001B[39m\u001B[38;5;241m.\u001B[39mconstruct_object(key_node, deep\u001B[38;5;241m=\u001B[39mdeep)\n\u001B[1;32m--> 126\u001B[0m     \u001B[38;5;28;01mif\u001B[39;00m \u001B[38;5;129;01mnot\u001B[39;00m \u001B[38;5;28misinstance\u001B[39m(key, \u001B[43mcollections\u001B[49m\u001B[38;5;241;43m.\u001B[39;49m\u001B[43mHashable\u001B[49m):\n\u001B[0;32m    127\u001B[0m         \u001B[38;5;28;01mraise\u001B[39;00m ConstructorError(\u001B[38;5;124m\"\u001B[39m\u001B[38;5;124mwhile constructing a mapping\u001B[39m\u001B[38;5;124m\"\u001B[39m, node\u001B[38;5;241m.\u001B[39mstart_mark,\n\u001B[0;32m    128\u001B[0m                 \u001B[38;5;124m\"\u001B[39m\u001B[38;5;124mfound unhashable key\u001B[39m\u001B[38;5;124m\"\u001B[39m, key_node\u001B[38;5;241m.\u001B[39mstart_mark)\n\u001B[0;32m    129\u001B[0m     value \u001B[38;5;241m=\u001B[39m \u001B[38;5;28mself\u001B[39m\u001B[38;5;241m.\u001B[39mconstruct_object(value_node, deep\u001B[38;5;241m=\u001B[39mdeep)\n",
      "\u001B[1;31mAttributeError\u001B[0m: module 'collections' has no attribute 'Hashable'"
     ]
    }
   ],
   "source": [
    "# Import \"chatbot\" from\n",
    "# chatterbot package.\n",
    "import spacy.cli\n",
    "spacy.cli.download(\"en_core_web_sm\")\n",
    "from chatterbot import ChatBot\n",
    "\n",
    "# Inorder to train our bot, we have\n",
    "# to import a trainer package\n",
    "# \"ChatterBotCorpusTrainer\"\n",
    "from chatterbot.trainers import ChatterBotCorpusTrainer\n",
    "\n",
    "\n",
    "# Give a name to the chatbot “corona bot”\n",
    "# and assign a trainer component.\n",
    "chatbot=ChatBot('corona bot')\n",
    "\n",
    "# Create a new trainer for the chatbot\n",
    "trainer = ChatterBotCorpusTrainer(chatbot)\n",
    "\n",
    "# Now let us train our bot with multiple corpus\n",
    "trainer.train(\"chatterbot.corpus.english.greetings\",\n",
    "\t\t\t\"chatterbot.corpus.english.conversations\" )\n",
    "\n",
    "response = chatbot.get_response('What is your Number')\n",
    "print(response)\n",
    "\n",
    "response = chatbot.get_response('Who are you?')\n",
    "print(response)\n"
   ]
  }
 ],
 "metadata": {
  "kernelspec": {
   "display_name": "Python 3",
   "language": "python",
   "name": "python3"
  },
  "language_info": {
   "codemirror_mode": {
    "name": "ipython",
    "version": 2
   },
   "file_extension": ".py",
   "mimetype": "text/x-python",
   "name": "python",
   "nbconvert_exporter": "python",
   "pygments_lexer": "ipython2",
   "version": "2.7.6"
  }
 },
 "nbformat": 4,
 "nbformat_minor": 0
}