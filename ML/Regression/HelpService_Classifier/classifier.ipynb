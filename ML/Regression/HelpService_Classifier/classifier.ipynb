{
 "cells": [
  {
   "cell_type": "code",
   "execution_count": 28,
   "metadata": {
    "collapsed": true
   },
   "outputs": [],
   "source": [
    "import numpy as np\n",
    "import matplotlib.pyplot as plt\n",
    "import pandas as pd\n",
    "from sklearn import preprocessing\n",
    "%matplotlib inline"
   ]
  },
  {
   "cell_type": "code",
   "execution_count": 29,
   "outputs": [
    {
     "data": {
      "text/plain": "3    281\n1    266\n4    236\n2    217\nName: custcat, dtype: int64"
     },
     "execution_count": 29,
     "metadata": {},
     "output_type": "execute_result"
    }
   ],
   "source": [
    "raw_data = pd.read_csv('teleCust1000t.csv')\n",
    "raw_data['custcat'].value_counts()"
   ],
   "metadata": {
    "collapsed": false,
    "pycharm": {
     "name": "#%%\n"
    }
   }
  },
  {
   "cell_type": "code",
   "execution_count": 30,
   "outputs": [
    {
     "data": {
      "text/plain": "Index(['region', 'tenure', 'age', 'marital', 'address', 'income', 'ed',\n       'employ', 'retire', 'gender', 'reside', 'custcat'],\n      dtype='object')"
     },
     "execution_count": 30,
     "metadata": {},
     "output_type": "execute_result"
    }
   ],
   "source": [
    "raw_data.columns"
   ],
   "metadata": {
    "collapsed": false,
    "pycharm": {
     "name": "#%%\n"
    }
   }
  },
  {
   "cell_type": "code",
   "execution_count": 31,
   "outputs": [
    {
     "data": {
      "text/plain": "array([[ 2., 13., 44., ...,  0.,  0.,  2.],\n       [ 3., 11., 33., ...,  0.,  0.,  6.],\n       [ 3., 68., 52., ...,  0.,  1.,  2.],\n       ...,\n       [ 3., 67., 59., ...,  0.,  1.,  1.],\n       [ 3., 70., 49., ...,  0.,  1.,  1.],\n       [ 3., 50., 36., ...,  0.,  1.,  3.]])"
     },
     "execution_count": 31,
     "metadata": {},
     "output_type": "execute_result"
    }
   ],
   "source": [
    "columns_inputs = raw_data[['region', 'tenure', 'age', 'marital', 'address', 'income', 'ed',\n",
    "       'employ', 'retire', 'gender', 'reside']].values\n",
    "columns_inputs"
   ],
   "metadata": {
    "collapsed": false,
    "pycharm": {
     "name": "#%%\n"
    }
   }
  },
  {
   "cell_type": "code",
   "execution_count": 32,
   "outputs": [],
   "source": [
    "#SCALING\n",
    "scaled_inputs = preprocessing.StandardScaler().fit(columns_inputs).transform(columns_inputs.astype(float))\n",
    "\n",
    "targets = raw_data['custcat'].values"
   ],
   "metadata": {
    "collapsed": false,
    "pycharm": {
     "name": "#%%\n"
    }
   }
  },
  {
   "cell_type": "code",
   "execution_count": 33,
   "outputs": [],
   "source": [
    "#TRAIN TEST SPLIT\n",
    "from sklearn.model_selection import train_test_split\n",
    "x_train,x_test,y_train,y_test = train_test_split(scaled_inputs,targets, test_size=0.2, random_state=69)"
   ],
   "metadata": {
    "collapsed": false,
    "pycharm": {
     "name": "#%%\n"
    }
   }
  },
  {
   "cell_type": "code",
   "execution_count": 40,
   "outputs": [
    {
     "data": {
      "text/plain": "array([1, 4, 4, 4, 1, 4, 1, 3, 1, 3, 1, 1, 4, 1, 1, 2, 3, 4, 1, 1, 1, 1,\n       3, 4, 4, 1, 3, 3, 2, 2, 2, 1, 4, 1, 2, 2, 4, 1, 4, 3, 4, 4, 3, 1,\n       2, 4, 2, 1, 3, 3, 1, 2, 2, 1, 2, 1, 1, 2, 3, 2, 1, 3, 2, 3, 2, 4,\n       4, 1, 4, 3, 2, 1, 1, 2, 4, 2, 2, 2, 3, 4, 1, 1, 1, 2, 4, 2, 2, 2,\n       1, 4, 3, 3, 1, 4, 1, 1, 4, 2, 3, 2, 1, 1, 1, 4, 1, 3, 4, 2, 3, 1,\n       4, 3, 3, 1, 3, 3, 3, 2, 3, 2, 1, 3, 3, 2, 4, 2, 4, 1, 3, 3, 3, 1,\n       2, 2, 2, 4, 2, 4, 1, 1, 4, 3, 2, 4, 2, 3, 3, 1, 2, 1, 2, 3, 1, 1,\n       1, 1, 4, 4, 1, 2, 2, 1, 3, 3, 1, 1, 2, 2, 1, 4, 2, 3, 3, 3, 4, 4,\n       4, 3, 3, 2, 4, 1, 1, 4, 2, 2, 3, 1, 2, 3, 3, 1, 1, 2, 1, 1, 3, 1,\n       1, 1])"
     },
     "execution_count": 40,
     "metadata": {},
     "output_type": "execute_result"
    }
   ],
   "source": [
    "#KNN Neighbour\n",
    "from sklearn.neighbors import KNeighborsClassifier\n",
    "k=5\n",
    "neigh  = KNeighborsClassifier(k).fit(x_train,y_train)\n",
    "\n",
    "#PREDICTIONS\n",
    "y_pred = neigh.predict(x_test)\n",
    "y_pred"
   ],
   "metadata": {
    "collapsed": false,
    "pycharm": {
     "name": "#%%\n"
    }
   }
  },
  {
   "cell_type": "code",
   "execution_count": 41,
   "outputs": [
    {
     "name": "stdout",
     "output_type": "stream",
     "text": [
      "Train set Accuracy:  0.54625\n",
      "Test set Accuracy:  0.32\n"
     ]
    }
   ],
   "source": [
    "#ACCURACY\n",
    "from sklearn import metrics\n",
    "print(\"Train set Accuracy: \", metrics.accuracy_score(y_train, neigh.predict(x_train)))\n",
    "print(\"Test set Accuracy: \", metrics.accuracy_score(y_test, y_pred))"
   ],
   "metadata": {
    "collapsed": false,
    "pycharm": {
     "name": "#%%\n"
    }
   }
  },
  {
   "cell_type": "code",
   "execution_count": 42,
   "outputs": [
    {
     "data": {
      "text/plain": "array([0.285, 0.345, 0.33 , 0.31 , 0.32 , 0.325, 0.315, 0.32 , 0.325])"
     },
     "execution_count": 42,
     "metadata": {},
     "output_type": "execute_result"
    }
   ],
   "source": [
    "#FINDING BEST K\n",
    "ks = 10\n",
    "mean_acc = np.zeros((ks-1))\n",
    "std_acc  = np.zeros((ks-1))\n",
    "\n",
    "for i in range(1,ks):\n",
    "       neigh = KNeighborsClassifier(i).fit(x_train,y_train)\n",
    "       y_pred = neigh.predict(x_test)\n",
    "       mean_acc[i-1] = metrics.accuracy_score(y_test,y_pred)\n",
    "       std_acc[i-1]=np.std(y_pred==y_test)/np.sqrt(y_pred.shape[0])\n",
    "\n",
    "mean_acc"
   ],
   "metadata": {
    "collapsed": false,
    "pycharm": {
     "name": "#%%\n"
    }
   }
  },
  {
   "cell_type": "code",
   "execution_count": 45,
   "outputs": [
    {
     "data": {
      "text/plain": "<Figure size 432x288 with 1 Axes>",
      "image/png": "[encoded data removed]"
     },
     "metadata": {
      "needs_background": "light"
     },
     "output_type": "display_data"
    },
    {
     "name": "stdout",
     "output_type": "stream",
     "text": [
      "The best accuracy was with 0.345 with k= 2\n"
     ]
    }
   ],
   "source": [
    "plt.plot(range(1,ks),mean_acc,'g')\n",
    "plt.fill_between(range(1,ks),mean_acc - 1 * std_acc,mean_acc + 1 * std_acc, alpha=0.10)\n",
    "plt.fill_between(range(1,ks),mean_acc - 3 * std_acc,mean_acc + 3 * std_acc, alpha=0.10,color=\"green\")\n",
    "plt.legend(('Accuracy ', '+/- 1xstd','+/- 3xstd'))\n",
    "plt.ylabel('Accuracy ')\n",
    "plt.xlabel('Number of Neighbors (K)')\n",
    "plt.tight_layout()\n",
    "plt.show()\n",
    "print( \"The best accuracy was with\", mean_acc.max(), \"with k=\", mean_acc.argmax()+1)"
   ],
   "metadata": {
    "collapsed": false,
    "pycharm": {
     "name": "#%%\n"
    }
   }
  }
 ],
 "metadata": {
  "kernelspec": {
   "display_name": "Python 3",
   "language": "python",
   "name": "python3"
  },
  "language_info": {
   "codemirror_mode": {
    "name": "ipython",
    "version": 2
   },
   "file_extension": ".py",
   "mimetype": "text/x-python",
   "name": "python",
   "nbconvert_exporter": "python",
   "pygments_lexer": "ipython2",
   "version": "2.7.6"
  }
 },
 "nbformat": 4,
 "nbformat_minor": 0
}