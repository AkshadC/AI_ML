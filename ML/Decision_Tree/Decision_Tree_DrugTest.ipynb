{
 "cells": [
  {
   "cell_type": "code",
   "execution_count": 1,
   "metadata": {
    "collapsed": true
   },
   "outputs": [],
   "source": [
    "import numpy as np\n",
    "import pandas as pd\n",
    "from sklearn import preprocessing\n",
    "from sklearn.model_selection import train_test_split\n",
    "from sklearn.tree import DecisionTreeClassifier\n",
    "from sklearn import metrics\n",
    "import matplotlib.pyplot as plt"
   ]
  },
  {
   "cell_type": "code",
   "execution_count": 2,
   "outputs": [
    {
     "data": {
      "text/plain": "   Age Sex      BP Cholesterol  Na_to_K   Drug\n0   23   F    HIGH        HIGH   25.355  drugY\n1   47   M     LOW        HIGH   13.093  drugC\n2   47   M     LOW        HIGH   10.114  drugC\n3   28   F  NORMAL        HIGH    7.798  drugX\n4   61   F     LOW        HIGH   18.043  drugY",
      "text/html": "<div>\n<style scoped>\n    .dataframe tbody tr th:only-of-type {\n        vertical-align: middle;\n    }\n\n    .dataframe tbody tr th {\n        vertical-align: top;\n    }\n\n    .dataframe thead th {\n        text-align: right;\n    }\n</style>\n<table border=\"1\" class=\"dataframe\">\n  <thead>\n    <tr style=\"text-align: right;\">\n      <th></th>\n      <th>Age</th>\n      <th>Sex</th>\n      <th>BP</th>\n      <th>Cholesterol</th>\n      <th>Na_to_K</th>\n      <th>Drug</th>\n    </tr>\n  </thead>\n  <tbody>\n    <tr>\n      <th>0</th>\n      <td>23</td>\n      <td>F</td>\n      <td>HIGH</td>\n      <td>HIGH</td>\n      <td>25.355</td>\n      <td>drugY</td>\n    </tr>\n    <tr>\n      <th>1</th>\n      <td>47</td>\n      <td>M</td>\n      <td>LOW</td>\n      <td>HIGH</td>\n      <td>13.093</td>\n      <td>drugC</td>\n    </tr>\n    <tr>\n      <th>2</th>\n      <td>47</td>\n      <td>M</td>\n      <td>LOW</td>\n      <td>HIGH</td>\n      <td>10.114</td>\n      <td>drugC</td>\n    </tr>\n    <tr>\n      <th>3</th>\n      <td>28</td>\n      <td>F</td>\n      <td>NORMAL</td>\n      <td>HIGH</td>\n      <td>7.798</td>\n      <td>drugX</td>\n    </tr>\n    <tr>\n      <th>4</th>\n      <td>61</td>\n      <td>F</td>\n      <td>LOW</td>\n      <td>HIGH</td>\n      <td>18.043</td>\n      <td>drugY</td>\n    </tr>\n  </tbody>\n</table>\n</div>"
     },
     "execution_count": 2,
     "metadata": {},
     "output_type": "execute_result"
    }
   ],
   "source": [
    "raw_data = pd.read_csv('drug200.csv')\n",
    "raw_data.head()"
   ],
   "metadata": {
    "collapsed": false,
    "pycharm": {
     "name": "#%%\n"
    }
   }
  },
  {
   "cell_type": "code",
   "execution_count": 3,
   "outputs": [
    {
     "name": "stdout",
     "output_type": "stream",
     "text": [
      "<class 'pandas.core.frame.DataFrame'>\n",
      "RangeIndex: 200 entries, 0 to 199\n",
      "Data columns (total 6 columns):\n",
      " #   Column       Non-Null Count  Dtype  \n",
      "---  ------       --------------  -----  \n",
      " 0   Age          200 non-null    int64  \n",
      " 1   Sex          200 non-null    object \n",
      " 2   BP           200 non-null    object \n",
      " 3   Cholesterol  200 non-null    object \n",
      " 4   Na_to_K      200 non-null    float64\n",
      " 5   Drug         200 non-null    object \n",
      "dtypes: float64(1), int64(1), object(4)\n",
      "memory usage: 9.5+ KB\n"
     ]
    }
   ],
   "source": [
    "raw_data.info()"
   ],
   "metadata": {
    "collapsed": false,
    "pycharm": {
     "name": "#%%\n"
    }
   }
  },
  {
   "cell_type": "code",
   "execution_count": 4,
   "outputs": [
    {
     "data": {
      "text/plain": "200"
     },
     "execution_count": 4,
     "metadata": {},
     "output_type": "execute_result"
    }
   ],
   "source": [
    "raw_data.shape[0]"
   ],
   "metadata": {
    "collapsed": false,
    "pycharm": {
     "name": "#%%\n"
    }
   }
  },
  {
   "cell_type": "code",
   "execution_count": 5,
   "outputs": [
    {
     "data": {
      "text/plain": "array([[23, 'F', 'HIGH', 'HIGH', 25.355],\n       [47, 'M', 'LOW', 'HIGH', 13.093],\n       [47, 'M', 'LOW', 'HIGH', 10.114],\n       [28, 'F', 'NORMAL', 'HIGH', 7.798],\n       [61, 'F', 'LOW', 'HIGH', 18.043]], dtype=object)"
     },
     "execution_count": 5,
     "metadata": {},
     "output_type": "execute_result"
    }
   ],
   "source": [
    "inputs = raw_data[['Age','Sex','BP','Cholesterol','Na_to_K']].values\n",
    "inputs[0:5]"
   ],
   "metadata": {
    "collapsed": false,
    "pycharm": {
     "name": "#%%\n"
    }
   }
  },
  {
   "cell_type": "code",
   "execution_count": 6,
   "outputs": [],
   "source": [
    "dum_sex = preprocessing.LabelEncoder()\n",
    "dum_sex.fit(['F','M'])\n",
    "inputs[:, 1] = dum_sex.transform(inputs[:, 1])\n",
    "\n",
    "dum_BP = preprocessing.LabelEncoder()\n",
    "dum_BP.fit(['LOW', 'NORMAL', 'HIGH'])\n",
    "inputs[:, 2] = dum_BP.transform(inputs[:, 2])\n",
    "\n",
    "dum_CHOL = preprocessing.LabelEncoder()\n",
    "dum_CHOL.fit(['NORMAL','HIGH'])\n",
    "inputs[:, 3] = dum_CHOL.transform(inputs[:, 3])"
   ],
   "metadata": {
    "collapsed": false,
    "pycharm": {
     "name": "#%%\n"
    }
   }
  },
  {
   "cell_type": "code",
   "execution_count": 7,
   "outputs": [],
   "source": [
    "targets = raw_data['Drug']"
   ],
   "metadata": {
    "collapsed": false,
    "pycharm": {
     "name": "#%%\n"
    }
   }
  },
  {
   "cell_type": "code",
   "execution_count": 8,
   "outputs": [],
   "source": [
    "x_train, x_test, y_train, y_test = train_test_split(inputs, targets, test_size=0.3, random_state=69)"
   ],
   "metadata": {
    "collapsed": false,
    "pycharm": {
     "name": "#%%\n"
    }
   }
  },
  {
   "cell_type": "code",
   "execution_count": 9,
   "outputs": [
    {
     "name": "stdout",
     "output_type": "stream",
     "text": [
      "140 140\n"
     ]
    }
   ],
   "source": [
    "print(x_train.shape[0], y_train.shape[0])"
   ],
   "metadata": {
    "collapsed": false,
    "pycharm": {
     "name": "#%%\n"
    }
   }
  },
  {
   "cell_type": "code",
   "execution_count": 10,
   "outputs": [
    {
     "name": "stdout",
     "output_type": "stream",
     "text": [
      "60 60\n"
     ]
    }
   ],
   "source": [
    "print(x_test.shape[0], y_test.shape[0])"
   ],
   "metadata": {
    "collapsed": false,
    "pycharm": {
     "name": "#%%\n"
    }
   }
  },
  {
   "cell_type": "code",
   "execution_count": 11,
   "outputs": [],
   "source": [
    "DrugTree = DecisionTreeClassifier(criterion=\"entropy\", max_depth=4)"
   ],
   "metadata": {
    "collapsed": false,
    "pycharm": {
     "name": "#%%\n"
    }
   }
  },
  {
   "cell_type": "code",
   "execution_count": 12,
   "outputs": [
    {
     "data": {
      "text/plain": "DecisionTreeClassifier(criterion='entropy', max_depth=4)"
     },
     "execution_count": 12,
     "metadata": {},
     "output_type": "execute_result"
    }
   ],
   "source": [
    "DrugTree.fit(x_train, y_train)"
   ],
   "metadata": {
    "collapsed": false,
    "pycharm": {
     "name": "#%%\n"
    }
   }
  },
  {
   "cell_type": "code",
   "execution_count": 13,
   "outputs": [],
   "source": [
    "pred_tree = DrugTree.predict(x_test)"
   ],
   "metadata": {
    "collapsed": false,
    "pycharm": {
     "name": "#%%\n"
    }
   }
  },
  {
   "cell_type": "code",
   "execution_count": 14,
   "outputs": [
    {
     "name": "stdout",
     "output_type": "stream",
     "text": [
      "['drugA' 'drugB' 'drugY' 'drugC' 'drugX' 'drugA' 'drugY' 'drugX' 'drugA'\n",
      " 'drugX' 'drugB' 'drugY' 'drugX' 'drugX' 'drugY' 'drugY' 'drugY' 'drugY'\n",
      " 'drugY' 'drugA' 'drugX' 'drugY' 'drugX' 'drugY' 'drugY' 'drugY' 'drugY'\n",
      " 'drugX' 'drugA' 'drugY' 'drugY' 'drugY' 'drugX' 'drugY' 'drugA' 'drugY'\n",
      " 'drugY' 'drugY' 'drugC' 'drugC' 'drugX' 'drugA' 'drugC' 'drugB' 'drugY'\n",
      " 'drugC' 'drugX' 'drugY' 'drugX' 'drugY' 'drugY' 'drugC' 'drugY' 'drugX'\n",
      " 'drugC' 'drugY' 'drugB' 'drugY' 'drugY' 'drugY']\n",
      "156    drugA\n",
      "70     drugB\n",
      "178    drugY\n",
      "47     drugC\n",
      "86     drugX\n",
      "118    drugA\n",
      "125    drugY\n",
      "32     drugX\n",
      "100    drugA\n",
      "58     drugX\n",
      "31     drugB\n",
      "62     drugY\n",
      "170    drugX\n",
      "199    drugX\n",
      "23     drugY\n",
      "8      drugY\n",
      "13     drugY\n",
      "15     drugY\n",
      "68     drugY\n",
      "137    drugA\n",
      "81     drugX\n",
      "172    drugY\n",
      "159    drugX\n",
      "98     drugY\n",
      "153    drugX\n",
      "92     drugY\n",
      "141    drugY\n",
      "135    drugX\n",
      "101    drugA\n",
      "26     drugY\n",
      "59     drugY\n",
      "6      drugY\n",
      "139    drugX\n",
      "73     drugY\n",
      "36     drugA\n",
      "57     drugY\n",
      "21     drugY\n",
      "134    drugY\n",
      "1      drugC\n",
      "84     drugC\n",
      "105    drugX\n",
      "138    drugB\n",
      "10     drugC\n",
      "108    drugB\n",
      "99     drugY\n",
      "155    drugC\n",
      "43     drugX\n",
      "52     drugY\n",
      "117    drugX\n",
      "20     drugY\n",
      "89     drugY\n",
      "193    drugC\n",
      "104    drugY\n",
      "72     drugX\n",
      "158    drugC\n",
      "164    drugY\n",
      "85     drugB\n",
      "133    drugY\n",
      "4      drugY\n",
      "143    drugY\n",
      "Name: Drug, dtype: object\n"
     ]
    }
   ],
   "source": [
    "print(pred_tree)\n",
    "print(y_test)"
   ],
   "metadata": {
    "collapsed": false,
    "pycharm": {
     "name": "#%%\n"
    }
   }
  },
  {
   "cell_type": "code",
   "execution_count": 15,
   "outputs": [
    {
     "name": "stdout",
     "output_type": "stream",
     "text": [
      "Decision Tree Accuracy :  0.9666666666666667\n"
     ]
    }
   ],
   "source": [
    "print(\"Decision Tree Accuracy : \", metrics.accuracy_score(y_test, pred_tree))"
   ],
   "metadata": {
    "collapsed": false,
    "pycharm": {
     "name": "#%%\n"
    }
   }
  },
  {
   "cell_type": "code",
   "execution_count": 16,
   "outputs": [],
   "source": [
    "from  io import StringIO\n",
    "import pydotplus\n",
    "import matplotlib.image as mpimg\n",
    "from sklearn import tree\n",
    "%matplotlib inline"
   ],
   "metadata": {
    "collapsed": false,
    "pycharm": {
     "name": "#%%\n"
    }
   }
  },
  {
   "cell_type": "code",
   "execution_count": 17,
   "outputs": [
    {
     "ename": "InvocationException",
     "evalue": "GraphViz's executables not found",
     "output_type": "error",
     "traceback": [
      "\u001B[1;31m---------------------------------------------------------------------------\u001B[0m",
      "\u001B[1;31mInvocationException\u001B[0m                       Traceback (most recent call last)",
      "Input \u001B[1;32mIn [17]\u001B[0m, in \u001B[0;36m<cell line: 7>\u001B[1;34m()\u001B[0m\n\u001B[0;32m      4\u001B[0m out \u001B[38;5;241m=\u001B[39m tree\u001B[38;5;241m.\u001B[39mexport_graphviz(DrugTree, feature_names\u001B[38;5;241m=\u001B[39mfeature_names, out_file\u001B[38;5;241m=\u001B[39mdot_data, class_names\u001B[38;5;241m=\u001B[39mnp\u001B[38;5;241m.\u001B[39munique(y_train), filled\u001B[38;5;241m=\u001B[39m\u001B[38;5;28;01mTrue\u001B[39;00m, special_characters\u001B[38;5;241m=\u001B[39m\u001B[38;5;28;01mTrue\u001B[39;00m, rotate\u001B[38;5;241m=\u001B[39m\u001B[38;5;28;01mFalse\u001B[39;00m)\n\u001B[0;32m      6\u001B[0m graph \u001B[38;5;241m=\u001B[39m pydotplus\u001B[38;5;241m.\u001B[39mgraph_from_dot_data(dot_data\u001B[38;5;241m.\u001B[39mgetvalue())\n\u001B[1;32m----> 7\u001B[0m \u001B[43mgraph\u001B[49m\u001B[38;5;241;43m.\u001B[39;49m\u001B[43mwrite_png\u001B[49m\u001B[43m(\u001B[49m\u001B[43mfilename\u001B[49m\u001B[43m)\u001B[49m\n\u001B[0;32m      8\u001B[0m img \u001B[38;5;241m=\u001B[39m mpimg\u001B[38;5;241m.\u001B[39mimread(filename)\n\u001B[0;32m      9\u001B[0m plt\u001B[38;5;241m.\u001B[39mfigure(figsize\u001B[38;5;241m=\u001B[39m(\u001B[38;5;241m100\u001B[39m,\u001B[38;5;241m200\u001B[39m))\n",
      "File \u001B[1;32m~\\PycharmProjects\\AI_ML\\venv\\lib\\site-packages\\pydotplus\\graphviz.py:1810\u001B[0m, in \u001B[0;36mDot.__init__.<locals>.<lambda>\u001B[1;34m(path, f, prog)\u001B[0m\n\u001B[0;32m   1800\u001B[0m     f\u001B[38;5;241m.\u001B[39m\u001B[38;5;18m__doc__\u001B[39m \u001B[38;5;241m=\u001B[39m (\n\u001B[0;32m   1801\u001B[0m         \u001B[38;5;124;03m'''Refer to the docstring accompanying the'''\u001B[39;00m\n\u001B[0;32m   1802\u001B[0m         \u001B[38;5;124;03m''''create' method for more information.'''\u001B[39;00m\n\u001B[0;32m   1803\u001B[0m     )\n\u001B[0;32m   1805\u001B[0m \u001B[38;5;28;01mfor\u001B[39;00m frmt \u001B[38;5;129;01min\u001B[39;00m \u001B[38;5;28mself\u001B[39m\u001B[38;5;241m.\u001B[39mformats \u001B[38;5;241m+\u001B[39m [\u001B[38;5;124m'\u001B[39m\u001B[38;5;124mraw\u001B[39m\u001B[38;5;124m'\u001B[39m]:\n\u001B[0;32m   1806\u001B[0m     \u001B[38;5;28mself\u001B[39m\u001B[38;5;241m.\u001B[39m\u001B[38;5;21m__setattr__\u001B[39m(\n\u001B[0;32m   1807\u001B[0m         \u001B[38;5;124m'\u001B[39m\u001B[38;5;124mwrite_\u001B[39m\u001B[38;5;124m'\u001B[39m \u001B[38;5;241m+\u001B[39m frmt,\n\u001B[0;32m   1808\u001B[0m         \u001B[38;5;28;01mlambda\u001B[39;00m path,\n\u001B[0;32m   1809\u001B[0m         f\u001B[38;5;241m=\u001B[39mfrmt,\n\u001B[1;32m-> 1810\u001B[0m         prog\u001B[38;5;241m=\u001B[39m\u001B[38;5;28mself\u001B[39m\u001B[38;5;241m.\u001B[39mprog: \u001B[38;5;28;43mself\u001B[39;49m\u001B[38;5;241;43m.\u001B[39;49m\u001B[43mwrite\u001B[49m\u001B[43m(\u001B[49m\u001B[43mpath\u001B[49m\u001B[43m,\u001B[49m\u001B[43m \u001B[49m\u001B[38;5;28;43mformat\u001B[39;49m\u001B[38;5;241;43m=\u001B[39;49m\u001B[43mf\u001B[49m\u001B[43m,\u001B[49m\u001B[43m \u001B[49m\u001B[43mprog\u001B[49m\u001B[38;5;241;43m=\u001B[39;49m\u001B[43mprog\u001B[49m\u001B[43m)\u001B[49m\n\u001B[0;32m   1811\u001B[0m     )\n\u001B[0;32m   1813\u001B[0m     f \u001B[38;5;241m=\u001B[39m \u001B[38;5;28mself\u001B[39m\u001B[38;5;241m.\u001B[39m\u001B[38;5;18m__dict__\u001B[39m[\u001B[38;5;124m'\u001B[39m\u001B[38;5;124mwrite_\u001B[39m\u001B[38;5;124m'\u001B[39m \u001B[38;5;241m+\u001B[39m frmt]\n\u001B[0;32m   1814\u001B[0m     f\u001B[38;5;241m.\u001B[39m\u001B[38;5;18m__doc__\u001B[39m \u001B[38;5;241m=\u001B[39m (\n\u001B[0;32m   1815\u001B[0m         \u001B[38;5;124;03m'''Refer to the docstring accompanying the'''\u001B[39;00m\n\u001B[0;32m   1816\u001B[0m         \u001B[38;5;124;03m''''write' method for more information.'''\u001B[39;00m\n\u001B[0;32m   1817\u001B[0m     )\n",
      "File \u001B[1;32m~\\PycharmProjects\\AI_ML\\venv\\lib\\site-packages\\pydotplus\\graphviz.py:1918\u001B[0m, in \u001B[0;36mDot.write\u001B[1;34m(self, path, prog, format)\u001B[0m\n\u001B[0;32m   1915\u001B[0m         fobj\u001B[38;5;241m.\u001B[39mwrite(data)\n\u001B[0;32m   1917\u001B[0m     \u001B[38;5;28;01melse\u001B[39;00m:\n\u001B[1;32m-> 1918\u001B[0m         fobj\u001B[38;5;241m.\u001B[39mwrite(\u001B[38;5;28;43mself\u001B[39;49m\u001B[38;5;241;43m.\u001B[39;49m\u001B[43mcreate\u001B[49m\u001B[43m(\u001B[49m\u001B[43mprog\u001B[49m\u001B[43m,\u001B[49m\u001B[43m \u001B[49m\u001B[38;5;28;43mformat\u001B[39;49m\u001B[43m)\u001B[49m)\n\u001B[0;32m   1919\u001B[0m \u001B[38;5;28;01mfinally\u001B[39;00m:\n\u001B[0;32m   1920\u001B[0m     \u001B[38;5;28;01mif\u001B[39;00m close:\n",
      "File \u001B[1;32m~\\PycharmProjects\\AI_ML\\venv\\lib\\site-packages\\pydotplus\\graphviz.py:1959\u001B[0m, in \u001B[0;36mDot.create\u001B[1;34m(self, prog, format)\u001B[0m\n\u001B[0;32m   1957\u001B[0m     \u001B[38;5;28mself\u001B[39m\u001B[38;5;241m.\u001B[39mprogs \u001B[38;5;241m=\u001B[39m find_graphviz()\n\u001B[0;32m   1958\u001B[0m     \u001B[38;5;28;01mif\u001B[39;00m \u001B[38;5;28mself\u001B[39m\u001B[38;5;241m.\u001B[39mprogs \u001B[38;5;129;01mis\u001B[39;00m \u001B[38;5;28;01mNone\u001B[39;00m:\n\u001B[1;32m-> 1959\u001B[0m         \u001B[38;5;28;01mraise\u001B[39;00m InvocationException(\n\u001B[0;32m   1960\u001B[0m             \u001B[38;5;124m'\u001B[39m\u001B[38;5;124mGraphViz\u001B[39m\u001B[38;5;130;01m\\'\u001B[39;00m\u001B[38;5;124ms executables not found\u001B[39m\u001B[38;5;124m'\u001B[39m)\n\u001B[0;32m   1962\u001B[0m \u001B[38;5;28;01mif\u001B[39;00m prog \u001B[38;5;129;01mnot\u001B[39;00m \u001B[38;5;129;01min\u001B[39;00m \u001B[38;5;28mself\u001B[39m\u001B[38;5;241m.\u001B[39mprogs:\n\u001B[0;32m   1963\u001B[0m     \u001B[38;5;28;01mraise\u001B[39;00m InvocationException(\n\u001B[0;32m   1964\u001B[0m         \u001B[38;5;124m'\u001B[39m\u001B[38;5;124mGraphViz\u001B[39m\u001B[38;5;130;01m\\'\u001B[39;00m\u001B[38;5;124ms executable \u001B[39m\u001B[38;5;124m\"\u001B[39m\u001B[38;5;132;01m%s\u001B[39;00m\u001B[38;5;124m\"\u001B[39m\u001B[38;5;124m not found\u001B[39m\u001B[38;5;124m'\u001B[39m \u001B[38;5;241m%\u001B[39m prog)\n",
      "\u001B[1;31mInvocationException\u001B[0m: GraphViz's executables not found"
     ]
    }
   ],
   "source": [
    "dot_data = StringIO()\n",
    "filename = \"DrugTree.png\"\n",
    "feature_names = raw_data.columns[0:5]\n",
    "out = tree.export_graphviz(DrugTree, feature_names=feature_names, out_file=dot_data, class_names=np.unique(y_train), filled=True, special_characters=True, rotate=False)\n",
    "\n",
    "graph = pydotplus.graph_from_dot_data(dot_data.getvalue())\n",
    "graph.write_png(filename)\n",
    "img = mpimg.imread(filename)\n",
    "plt.figure(figsize=(100,200))\n",
    "plt.imshow(img, interpolation='nearest')"
   ],
   "metadata": {
    "collapsed": false,
    "pycharm": {
     "name": "#%%\n"
    }
   }
  }
 ],
 "metadata": {
  "kernelspec": {
   "display_name": "Python 3",
   "language": "python",
   "name": "python3"
  },
  "language_info": {
   "codemirror_mode": {
    "name": "ipython",
    "version": 2
   },
   "file_extension": ".py",
   "mimetype": "text/x-python",
   "name": "python",
   "nbconvert_exporter": "python",
   "pygments_lexer": "ipython2",
   "version": "2.7.6"
  }
 },
 "nbformat": 4,
 "nbformat_minor": 0
}