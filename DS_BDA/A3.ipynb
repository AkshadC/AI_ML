{
 "cells": [
  {
   "cell_type": "markdown",
   "source": [
    "### Descriptive Statistics - Measures of Central Tendency and variability\n",
    "### Perform the following operations on any open source dataset (e.g., data.csv)\n",
    "1. Provide summary statistics (mean, median, minimum, maximum, standard deviation) for\n",
    "a dataset (age, income etc.) with numeric variables grouped by one of the qualitative\n",
    "(categorical) variable. For example, if your categorical variable is age groups and\n",
    "quantitative variable is income, then provide summary statistics of income grouped by\n",
    "the age groups. Create a list that contains a numeric value for each response to the\n",
    "categorical variable.\n",
    "2. Write a Python program to display some basic statistical details like percentile, mean,\n",
    "standard deviation etc. of the species of ‘Iris-setosa’, ‘Iris-versicolor’ and ‘Iris-\n",
    "versicolor’ of iris.csv dataset."
   ],
   "metadata": {
    "collapsed": false,
    "pycharm": {
     "name": "#%% md\n"
    }
   }
  },
  {
   "cell_type": "code",
   "execution_count": 5,
   "metadata": {
    "collapsed": true
   },
   "outputs": [],
   "source": [
    "import pandas as pd\n",
    "import seaborn as sns\n",
    "import warnings\n",
    "warnings.filterwarnings('ignore')\n",
    "sns.set()"
   ]
  },
  {
   "cell_type": "code",
   "execution_count": 6,
   "outputs": [
    {
     "data": {
      "text/plain": "           Brand    Price       Body  Mileage  EngineV Engine Type  \\\n0            BMW   4200.0      sedan      277      2.0      Petrol   \n1  Mercedes-Benz   7900.0        van      427      2.9      Diesel   \n2  Mercedes-Benz  13300.0      sedan      358      5.0         Gas   \n3           Audi  23000.0  crossover      240      4.2      Petrol   \n4         Toyota  18300.0  crossover      120      2.0      Petrol   \n\n  Registration  Year  \n0          yes  1991  \n1          yes  1999  \n2          yes  2003  \n3          yes  2007  \n4          yes  2011  ",
      "text/html": "<div>\n<style scoped>\n    .dataframe tbody tr th:only-of-type {\n        vertical-align: middle;\n    }\n\n    .dataframe tbody tr th {\n        vertical-align: top;\n    }\n\n    .dataframe thead th {\n        text-align: right;\n    }\n</style>\n<table border=\"1\" class=\"dataframe\">\n  <thead>\n    <tr style=\"text-align: right;\">\n      <th></th>\n      <th>Brand</th>\n      <th>Price</th>\n      <th>Body</th>\n      <th>Mileage</th>\n      <th>EngineV</th>\n      <th>Engine Type</th>\n      <th>Registration</th>\n      <th>Year</th>\n    </tr>\n  </thead>\n  <tbody>\n    <tr>\n      <th>0</th>\n      <td>BMW</td>\n      <td>4200.0</td>\n      <td>sedan</td>\n      <td>277</td>\n      <td>2.0</td>\n      <td>Petrol</td>\n      <td>yes</td>\n      <td>1991</td>\n    </tr>\n    <tr>\n      <th>1</th>\n      <td>Mercedes-Benz</td>\n      <td>7900.0</td>\n      <td>van</td>\n      <td>427</td>\n      <td>2.9</td>\n      <td>Diesel</td>\n      <td>yes</td>\n      <td>1999</td>\n    </tr>\n    <tr>\n      <th>2</th>\n      <td>Mercedes-Benz</td>\n      <td>13300.0</td>\n      <td>sedan</td>\n      <td>358</td>\n      <td>5.0</td>\n      <td>Gas</td>\n      <td>yes</td>\n      <td>2003</td>\n    </tr>\n    <tr>\n      <th>3</th>\n      <td>Audi</td>\n      <td>23000.0</td>\n      <td>crossover</td>\n      <td>240</td>\n      <td>4.2</td>\n      <td>Petrol</td>\n      <td>yes</td>\n      <td>2007</td>\n    </tr>\n    <tr>\n      <th>4</th>\n      <td>Toyota</td>\n      <td>18300.0</td>\n      <td>crossover</td>\n      <td>120</td>\n      <td>2.0</td>\n      <td>Petrol</td>\n      <td>yes</td>\n      <td>2011</td>\n    </tr>\n  </tbody>\n</table>\n</div>"
     },
     "execution_count": 6,
     "metadata": {},
     "output_type": "execute_result"
    }
   ],
   "source": [
    "data_cars = pd.read_csv('Cars.csv')\n",
    "\n",
    "data_cars = data_cars.drop(['Model'], axis=1 )\n",
    "data_cars.head()"
   ],
   "metadata": {
    "collapsed": false,
    "pycharm": {
     "name": "#%%\n"
    }
   }
  },
  {
   "cell_type": "markdown",
   "source": [
    "### Ans 1"
   ],
   "metadata": {
    "collapsed": false,
    "pycharm": {
     "name": "#%% md\n"
    }
   }
  },
  {
   "cell_type": "code",
   "execution_count": 9,
   "outputs": [
    {
     "data": {
      "text/plain": "Price      19418.746935\nMileage      161.237284\nEngineV        2.790734\ndtype: float64"
     },
     "execution_count": 9,
     "metadata": {},
     "output_type": "execute_result"
    }
   ],
   "source": [
    "data_numerical = data_cars.drop(['Brand','Body','Engine Type','Registration','Year'], axis=1)\n",
    "\n",
    "#Finding Mean\n",
    "mean_cars = data_numerical.mean()\n",
    "\n",
    "\n",
    "#Finding Mode\n",
    "mode_cars = data_numerical.mode()\n",
    "\n",
    "#Finding Median\n",
    "median_cars = data_numerical.median()\n",
    "\n",
    "#Finding Maximum\n",
    "maximum_cars = data_numerical.max()\n",
    "\n",
    "#Finding Minimum\n",
    "minimum_cars = data_numerical.min()\n",
    "\n",
    "#Finding Standard Deviation\n",
    "std_cars = data_numerical.std()\n",
    "\n",
    "#Finding the variance\n",
    "variance_cars = data_numerical.var()\n",
    "\n",
    "#Finding the skewness\n",
    "skewness_cars = data_numerical.skew()\n",
    "\n",
    "mean_cars"
   ],
   "metadata": {
    "collapsed": false,
    "pycharm": {
     "name": "#%%\n"
    }
   }
  },
  {
   "cell_type": "markdown",
   "source": [
    "### Ans 2"
   ],
   "metadata": {
    "collapsed": false,
    "pycharm": {
     "name": "#%% md\n"
    }
   }
  },
  {
   "cell_type": "code",
   "execution_count": 8,
   "outputs": [],
   "source": [
    "data_iris = pd.read_csv('iris.csv')\n",
    "data_iris.head()\n",
    "\n",
    "#Finding Mean\n",
    "mean_iris = data_iris.mean()\n",
    "\n",
    "#Finding Mode\n",
    "mode_iris = data_iris.mode()\n",
    "\n",
    "#Finding Median\n",
    "median_iris = data_iris.median()\n",
    "\n",
    "#Finding Maximum\n",
    "maximum_iris = data_iris.max()\n",
    "\n",
    "#Finding Minimum\n",
    "minimum_iris = data_iris.min()\n",
    "\n",
    "#Finding Standard Deviation\n",
    "std_iris = data_iris.std()\n",
    "\n",
    "#Finding the variance\n",
    "variance_iris = data_iris.var()\n",
    "\n",
    "#Finding the skewness\n",
    "skewness_iris = data_iris.skew()\n",
    "\n",
    "#Finding the 25th percentile\n",
    "percentile_25th = data_iris.quantile(0.25)\n",
    "\n",
    "#Finding the 50th percentile\n",
    "percentile_50th = data_iris.quantile(0.5)\n",
    "\n",
    "#Finding the 75th percentile\n",
    "percentile_75th = data_iris.quantile(0.75)"
   ],
   "metadata": {
    "collapsed": false,
    "pycharm": {
     "name": "#%%\n"
    }
   }
  }
 ],
 "metadata": {
  "kernelspec": {
   "display_name": "Python 3",
   "language": "python",
   "name": "python3"
  },
  "language_info": {
   "codemirror_mode": {
    "name": "ipython",
    "version": 2
   },
   "file_extension": ".py",
   "mimetype": "text/x-python",
   "name": "python",
   "nbconvert_exporter": "python",
   "pygments_lexer": "ipython2",
   "version": "2.7.6"
  }
 },
 "nbformat": 4,
 "nbformat_minor": 0
}