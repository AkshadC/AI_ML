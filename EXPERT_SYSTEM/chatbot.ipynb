{
 "cells": [
  {
   "cell_type": "code",
   "execution_count": 10,
   "metadata": {
    "collapsed": true
   },
   "outputs": [
    {
     "name": "stdout",
     "output_type": "stream",
     "text": [
      "Training ai.yml: [####################] 100%\r\n",
      "Training botprofile.yml: [####################] 100%\r\n",
      "Training computers.yml: [####################] 100%\r\n",
      "Training conversations.yml: [####################] 100%\r\n",
      "Training emotion.yml: [####################] 100%\r\n",
      "Training food.yml: [####################] 100%\r\n",
      "Training gossip.yml: [####################] 100%\r\n",
      "Training greetings.yml: [####################] 100%\r\n",
      "Training health.yml: [####################] 100%\r\n",
      "Training history.yml: [####################] 100%\r\n",
      "Training humor.yml: [####################] 100%\r\n",
      "Training literature.yml: [####################] 100%\r\n",
      "Training money.yml: [####################] 100%\r\n",
      "Training movies.yml: [####################] 100%\r\n",
      "Training politics.yml: [####################] 100%\r\n",
      "Training psychology.yml: [####################] 100%\r\n",
      "Training science.yml: [####################] 100%\r\n",
      "Training sports.yml: [####################] 100%\r\n",
      "Training trivia.yml: [####################] 100%\r\n",
      "I don't have any number\n",
      "Who? Who is but a form following the function of what\n"
     ]
    }
   ],
   "source": [
    "# Import \"chatbot\" from\n",
    "# chatterbot package.\n",
    "from chatterbot import ChatBot\n",
    "\n",
    "# Inorder to train our bot, we have\n",
    "# to import a trainer package\n",
    "# \"ChatterBotCorpusTrainer\"\n",
    "from chatterbot.trainers import ChatterBotCorpusTrainer\n",
    "\n",
    "\n",
    "# Give a name to the chatbot “corona bot”\n",
    "# and assign a trainer component.\n",
    "chatbot=ChatBot('corona bot')\n",
    "\n",
    "# Create a new trainer for the chatbot\n",
    "trainer = ChatterBotCorpusTrainer(chatbot)\n",
    "\n",
    "# Now let us train our bot with multiple corpus\n",
    "trainer.train(\"chatterbot.corpus.english\")\n",
    "\n",
    "response = chatbot.get_response('What is your Number')\n",
    "print(response)\n",
    "\n",
    "response = chatbot.get_response('Who are you?')\n",
    "print(response)"
   ]
  },
  {
   "cell_type": "code",
   "execution_count": 12,
   "outputs": [
    {
     "data": {
      "text/plain": "<Statement text:Did you hear the one about the mountain goats in the andes? It was \"ba a a a a a d\".>"
     },
     "execution_count": 12,
     "metadata": {},
     "output_type": "execute_result"
    }
   ],
   "source": [
    "chatbot.get_response('Tell me a joke')"
   ],
   "metadata": {
    "collapsed": false,
    "pycharm": {
     "name": "#%%\n"
    }
   }
  },
  {
   "cell_type": "code",
   "execution_count": 14,
   "outputs": [
    {
     "data": {
      "text/plain": "<Statement text:Artificial Intelligence is the branch of engineering and science devoted to constructing machines that think.>"
     },
     "execution_count": 14,
     "metadata": {},
     "output_type": "execute_result"
    }
   ],
   "source": [
    "chatbot.get_response('What is AI?')"
   ],
   "metadata": {
    "collapsed": false,
    "pycharm": {
     "name": "#%%\n"
    }
   }
  },
  {
   "cell_type": "code",
   "execution_count": 15,
   "outputs": [
    {
     "data": {
      "text/plain": "<Statement text:Python.>"
     },
     "execution_count": 15,
     "metadata": {},
     "output_type": "execute_result"
    }
   ],
   "source": [
    "chatbot.get_response('What language are you written in ?')"
   ],
   "metadata": {
    "collapsed": false,
    "pycharm": {
     "name": "#%%\n"
    }
   }
  },
  {
   "cell_type": "code",
   "execution_count": 16,
   "outputs": [
    {
     "data": {
      "text/plain": "<Statement text:I do not.>"
     },
     "execution_count": 16,
     "metadata": {},
     "output_type": "execute_result"
    }
   ],
   "source": [
    "chatbot.get_response('Are you immortal?')"
   ],
   "metadata": {
    "collapsed": false,
    "pycharm": {
     "name": "#%%\n"
    }
   }
  },
  {
   "cell_type": "code",
   "execution_count": 17,
   "outputs": [
    {
     "data": {
      "text/plain": "<Statement text:Everywhere>"
     },
     "execution_count": 17,
     "metadata": {},
     "output_type": "execute_result"
    }
   ],
   "source": [
    "chatbot.get_response('What is your location?')"
   ],
   "metadata": {
    "collapsed": false,
    "pycharm": {
     "name": "#%%\n"
    }
   }
  },
  {
   "cell_type": "code",
   "execution_count": 18,
   "outputs": [
    {
     "data": {
      "text/plain": "<Statement text:I like to think of myself as self-employed.>"
     },
     "execution_count": 18,
     "metadata": {},
     "output_type": "execute_result"
    }
   ],
   "source": [
    "chatbot.get_response('Who is your boss?')"
   ],
   "metadata": {
    "collapsed": false,
    "pycharm": {
     "name": "#%%\n"
    }
   }
  },
  {
   "cell_type": "code",
   "execution_count": 19,
   "outputs": [
    {
     "data": {
      "text/plain": "<Statement text:I am still young by your standards.>"
     },
     "execution_count": 19,
     "metadata": {},
     "output_type": "execute_result"
    }
   ],
   "source": [
    "chatbot.get_response('What is your age?')"
   ],
   "metadata": {
    "collapsed": false,
    "pycharm": {
     "name": "#%%\n"
    }
   }
  },
  {
   "cell_type": "code",
   "execution_count": 22,
   "outputs": [
    {
     "name": "stdout",
     "output_type": "stream",
     "text": [
      "Do you feel love?\n"
     ]
    }
   ],
   "source": [
    "chatbot.get_response('Have you ever love?')"
   ],
   "metadata": {
    "collapsed": false,
    "pycharm": {
     "name": "#%%\n"
    }
   }
  },
  {
   "cell_type": "code",
   "execution_count": 25,
   "outputs": [
    {
     "data": {
      "text/plain": "<Statement text:Gregory said I respond to the current line, not with respect to the entire conversation. Does that count as gossip?>"
     },
     "execution_count": 25,
     "metadata": {},
     "output_type": "execute_result"
    }
   ],
   "source": [
    "chatbot.get_response('Do you know gossip')"
   ],
   "metadata": {
    "collapsed": false,
    "pycharm": {
     "name": "#%%\n"
    }
   }
  }
 ],
 "metadata": {
  "kernelspec": {
   "display_name": "Python 3",
   "language": "python",
   "name": "python3"
  },
  "language_info": {
   "codemirror_mode": {
    "name": "ipython",
    "version": 2
   },
   "file_extension": ".py",
   "mimetype": "text/x-python",
   "name": "python",
   "nbconvert_exporter": "python",
   "pygments_lexer": "ipython2",
   "version": "2.7.6"
  }
 },
 "nbformat": 4,
 "nbformat_minor": 0
}